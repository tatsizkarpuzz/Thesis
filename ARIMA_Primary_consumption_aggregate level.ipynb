{
 "cells": [
  {
   "cell_type": "markdown",
   "id": "932acc65-d811-437e-9616-14c360163a8e",
   "metadata": {},
   "source": [
    "## Import data \n"
   ]
  },
  {
   "cell_type": "code",
   "execution_count": null,
   "id": "691cd3ee-f160-42d4-ae26-908310e59306",
   "metadata": {},
   "outputs": [],
   "source": [
    "import os\n",
    "import warnings\n",
    "warnings.filterwarnings('ignore')\n",
    "\n",
    "import pandas as pd\n",
    "import numpy as np\n",
    "import matplotlib.pyplot as plt\n",
    "\n",
    "from scipy.stats import shapiro \n",
    "\n",
    "from sklearn.metrics import mean_squared_error\n",
    "from math import sqrt\n",
    "from sklearn.metrics import mean_absolute_error\n",
    "\n",
    "import statsmodels.api as sm\n",
    "from statsmodels.tsa.stattools import adfuller\n",
    "from statsmodels.graphics.tsaplots import plot_acf,plot_pacf\n",
    "from statsmodels.graphics.tsaplots import plot_predict\n",
    "\n",
    "import seaborn as sns\n",
    "\n",
    "import colorama\n",
    "from colorama import Fore, Style\n",
    "\n",
    "! pip install pmdarima\n",
    "from pmdarima import auto_arima"
   ]
  },
  {
   "cell_type": "code",
   "execution_count": null,
   "id": "e254af75-71ff-4885-98fc-00dc57bf0acb",
   "metadata": {
    "tags": []
   },
   "outputs": [],
   "source": [
    "df = pd.read_csv('Primary total energy consumption.csv',delimiter=';')\n",
    "\n",
    "df.head()"
   ]
  },
  {
   "cell_type": "markdown",
   "id": "952479a6-b7be-45a1-ad00-189506523633",
   "metadata": {},
   "source": [
    "## Data Preprocessing and Visualization "
   ]
  },
  {
   "cell_type": "code",
   "execution_count": null,
   "id": "4aa8b74b-623e-4516-aea3-919e3a3942c8",
   "metadata": {},
   "outputs": [],
   "source": [
    "#reorganize data columns\n",
    "df1 = pd.melt(df, id_vars=[\"Country\"], var_name=\"Year\", value_name=\"Value\")\n",
    "\n",
    "df1.shape"
   ]
  },
  {
   "cell_type": "code",
   "execution_count": null,
   "id": "d5657fe8-be3a-4b11-bd70-b809f05b86d1",
   "metadata": {},
   "outputs": [],
   "source": [
    "df1.head()"
   ]
  },
  {
   "cell_type": "code",
   "execution_count": null,
   "id": "3aea00e3-efba-429a-881e-b2e2b29bb4c6",
   "metadata": {},
   "outputs": [],
   "source": [
    "#Remove the countries which are not in European Union\n",
    "values = ['Iceland','Norway','Switzerland','Turkey','Ukraine', 'United Kingdom', 'Other Europe']\n",
    "df1 = df1[df1.Country.isin(values) == False]\n",
    "df1"
   ]
  },
  {
   "cell_type": "code",
   "execution_count": null,
   "id": "757c3a35-94a4-4201-8d2e-94c16bf4b101",
   "metadata": {},
   "outputs": [],
   "source": [
    "#convert datatype from string to float\n",
    "df1[\"Value\"] =[float(str(i).replace(',','.')) for i in df1[\"Value\"]] "
   ]
  },
  {
   "cell_type": "code",
   "execution_count": null,
   "id": "6bb514fe-de53-43b9-94fd-a21a064cf7ee",
   "metadata": {},
   "outputs": [],
   "source": [
    "df1.dtypes #check the data types"
   ]
  },
  {
   "cell_type": "code",
   "execution_count": null,
   "id": "ea181de8-14f6-4420-a340-08c51dc8139d",
   "metadata": {},
   "outputs": [],
   "source": [
    "#See whether the dataset has any null value\n",
    "df1.isnull().sum()"
   ]
  },
  {
   "cell_type": "code",
   "execution_count": null,
   "id": "cc763de9-9ec7-41f4-bd39-91ad39f02a33",
   "metadata": {},
   "outputs": [],
   "source": [
    "#pivot feature to see the visualization\n",
    "df1 = df1.pivot_table('Value', ['Year'], 'Country').reset_index()\n"
   ]
  },
  {
   "cell_type": "code",
   "execution_count": null,
   "id": "2abd750a-9634-4ca8-a7f1-95870e9009c4",
   "metadata": {},
   "outputs": [],
   "source": [
    "df1.head()"
   ]
  },
  {
   "cell_type": "code",
   "execution_count": null,
   "id": "2433416f-ab76-499e-875f-201faaf0e05f",
   "metadata": {},
   "outputs": [],
   "source": [
    "#Covert Year to date column\n",
    "df1['Year'] = pd.to_datetime(df1['Year'])"
   ]
  },
  {
   "cell_type": "code",
   "execution_count": null,
   "id": "b6e4d3ec-cd55-4400-9fbd-aa2439bc3595",
   "metadata": {},
   "outputs": [],
   "source": [
    "#create a country list\n",
    "country_name=np.array(df1.columns.unique())\n",
    "print(country_name)"
   ]
  },
  {
   "cell_type": "code",
   "execution_count": null,
   "id": "a673f769-225b-47d5-9716-4a2fd5af9bcc",
   "metadata": {},
   "outputs": [],
   "source": [
    "country_name = np.delete(country_name, 0)\n",
    "country_name"
   ]
  },
  {
   "cell_type": "code",
   "execution_count": null,
   "id": "239b941a-d5f5-4a1c-b7ed-57a303345e77",
   "metadata": {},
   "outputs": [],
   "source": [
    "#the info of dataset\n",
    "df1.info()"
   ]
  },
  {
   "cell_type": "code",
   "execution_count": null,
   "id": "639d185c-ac65-466b-888f-d1a5d9740207",
   "metadata": {},
   "outputs": [],
   "source": [
    "# To compelte the data, as naive method, we will use ffill\n",
    "f, ax = plt.subplots(nrows=len(country_name), ncols=1,  figsize=(12,len(country_name)*3.5))\n",
    "for i, column in enumerate(df1.drop('Year', axis=1).columns):\n",
    "    sns.lineplot(x=df1['Year'], y=df1[column].fillna(method='ffill'), ax=ax[i], color='dodgerblue')\n",
    "    ax[i].set_title('{}'.format(column), fontsize=14)\n",
    "    ax[i].set_ylabel(ylabel='Primary Total Energy Consumption by Year', fontsize=8)\n",
    "    ax[i].set_xlabel('Year', size=10)\n",
    "    ax[i].xaxis.set_tick_params(labelsize=9)\n",
    "    ax[i].yaxis.set_tick_params(labelsize=9)\n",
    "plt.tight_layout() "
   ]
  },
  {
   "cell_type": "markdown",
   "id": "cac4d750-f5b8-4758-b6a3-70df14a91366",
   "metadata": {},
   "source": [
    "## Handle Missings and Descriptive statistics"
   ]
  },
  {
   "cell_type": "code",
   "execution_count": null,
   "id": "6f72886a-86fb-4f6f-9893-ee7c8690747c",
   "metadata": {},
   "outputs": [],
   "source": [
    "df1 = pd.melt(df1, id_vars=[\"Year\"], var_name=\"Country\", value_name=\"Value\")\n",
    "\n",
    "df1.shape"
   ]
  },
  {
   "cell_type": "code",
   "execution_count": null,
   "id": "1ba03c22-2468-48cf-a6d7-cb915a7cedf6",
   "metadata": {},
   "outputs": [],
   "source": [
    "df1[\"Value\"] =[float(str(i).replace(',','.')) for i in df1[\"Value\"]] "
   ]
  },
  {
   "cell_type": "code",
   "execution_count": null,
   "id": "f892f302-69b0-4851-a231-e8259db62840",
   "metadata": {},
   "outputs": [],
   "source": [
    "# fill null data with the mean of each group\n",
    "\n",
    "df1['Value']= df1.groupby('Country')['Value'].apply(lambda x: x.fillna(x.mean()))"
   ]
  },
  {
   "cell_type": "code",
   "execution_count": null,
   "id": "ac636741-169e-425e-af6c-83b09c02802e",
   "metadata": {},
   "outputs": [],
   "source": [
    "#round up after comma\n",
    "df1['Value']=round(df1['Value'],2) "
   ]
  },
  {
   "cell_type": "code",
   "execution_count": null,
   "id": "e9c0388c-9316-4aae-b831-eaa874ae1ba3",
   "metadata": {},
   "outputs": [],
   "source": [
    "df1 = df1.pivot_table('Value', ['Year'], 'Country').reset_index()"
   ]
  },
  {
   "cell_type": "code",
   "execution_count": null,
   "id": "56637f61-4666-4bdb-b9a8-9b0f88e3cacb",
   "metadata": {},
   "outputs": [],
   "source": [
    "# The descriptive statistics information for each country\n",
    "df1_describe=df1.describe()"
   ]
  },
  {
   "cell_type": "code",
   "execution_count": null,
   "id": "6783fb8f-4ffa-47c6-ae32-5aacab41edc0",
   "metadata": {},
   "outputs": [],
   "source": [
    "df1_describe"
   ]
  },
  {
   "cell_type": "code",
   "execution_count": null,
   "id": "059ece27-7aa5-4714-b85e-af6b8b5043c9",
   "metadata": {},
   "outputs": [],
   "source": [
    "df1_describe.loc['Var'] = df1.var().tolist() #variance\n",
    "df1_describe.loc['Skewness'] = df1.skew().tolist() #skewness\n",
    "df1_describe.loc['Kurtosis'] = df1.kurtosis().tolist() #kurtosis"
   ]
  },
  {
   "cell_type": "code",
   "execution_count": null,
   "id": "2bc64ec2-a48d-4e7e-9eaa-e38af940a9c8",
   "metadata": {},
   "outputs": [],
   "source": [
    "my_description=df1_describe.T"
   ]
  },
  {
   "cell_type": "code",
   "execution_count": null,
   "id": "89a3f900-f223-4d3c-80db-7533dfc26a56",
   "metadata": {},
   "outputs": [],
   "source": [
    "my_description.to_csv(\"my_description.csv\") #save as csv file"
   ]
  },
  {
   "cell_type": "markdown",
   "id": "cdd98bbf-c6ca-4ac5-b914-5be8178c1122",
   "metadata": {},
   "source": [
    "# Stationarity"
   ]
  },
  {
   "cell_type": "markdown",
   "id": "e660dc1d-6d6d-4a13-8868-f962d77c1562",
   "metadata": {},
   "source": [
    "## Augmented Dickey-Fuller (ADF)"
   ]
  },
  {
   "cell_type": "code",
   "execution_count": null,
   "id": "0bc3e912-ade6-4caa-8908-a98d18f8d237",
   "metadata": {},
   "outputs": [],
   "source": [
    "#ADF test to check the stationarity of each country's data\n",
    "for name in country_name:\n",
    "    def adf_test(value):\n",
    "        result=adfuller(value)\n",
    "        labels = ['Test parameters', 'p-value','#Lags Used','Dataset observations']\n",
    "        for value,label in zip(result,labels):\n",
    "            print(label+' : '+str(value) )\n",
    "        if result[1] <= 0.05:\n",
    "            print(\"Dataset is stationary\")\n",
    "            print(name)\n",
    "            print(\"\\n\")\n",
    "        else:\n",
    "            print(\"Dataset is non-stationary \")\n",
    "            print(name)\n",
    "            print(\"\\n\")\n",
    "    adf_test(df1[name])"
   ]
  },
  {
   "cell_type": "code",
   "execution_count": null,
   "id": "e4e13ac5-96c4-4ccc-bf1a-81aa5afca4da",
   "metadata": {},
   "outputs": [],
   "source": [
    "df1 = pd.melt(df1, id_vars=[\"Year\"], \n",
    "                  var_name=\"Country\", value_name=\"Value\")\n",
    "df1.head()"
   ]
  },
  {
   "cell_type": "markdown",
   "id": "4bacc00e-4ec1-4a96-8bfd-54bbd11d9415",
   "metadata": {},
   "source": [
    "## Normality test:"
   ]
  },
  {
   "cell_type": "code",
   "execution_count": null,
   "id": "78b8fbff-8919-43f5-9d75-4ebf7f1b6906",
   "metadata": {},
   "outputs": [],
   "source": [
    "my_normality_test=(df1.groupby('Country')[['Value']].apply(lambda x: pd.Series(shapiro(x), index=['Shapiro-Wilk','P'])).reset_index())\n",
    "my_normality_test.to_csv(\"my_normality_test_total_consumption.csv\") #save as csv file"
   ]
  },
  {
   "cell_type": "markdown",
   "id": "680c406d-2d06-484f-9074-486a470c02a5",
   "metadata": {},
   "source": [
    "## Plotting Autocorrelation Function (ACF) for seasonality inspection "
   ]
  },
  {
   "cell_type": "code",
   "execution_count": null,
   "id": "e2a24d17-0e44-4cbc-a053-0875016accf5",
   "metadata": {},
   "outputs": [],
   "source": [
    "#Autocorrelation visualization to check whether the data of each country is stationary\n",
    "fig, ax = plt.subplots(nrows=len(country_name), figsize=(12,len(country_name)*3.5))\n",
    "for i in country_name:\n",
    "    #print(i)\n",
    "    ind =list(country_name).index(i)\n",
    "    #print(ind)\n",
    "    filt = df1['Country']== i \n",
    "    #print(filt)\n",
    "    sm.graphics.tsa.plot_acf(df1.loc[filt]['Value'],ax=ax[ind])\n",
    "    ax[ind].set_title(i, size=10)\n",
    "    ax[ind].set_ylabel('Energy Consumption by Year', size=9)\n",
    "    ax[ind].set_xlabel('Year', size=9)\n",
    "    ax[ind].xaxis.set_tick_params(labelsize=9)\n",
    "    ax[ind].yaxis.set_tick_params(labelsize=9)\n",
    "plt.tight_layout() "
   ]
  },
  {
   "cell_type": "markdown",
   "id": "64db1397-6875-47c9-95e6-6a2ad4638254",
   "metadata": {},
   "source": [
    "## Implementing Differencing"
   ]
  },
  {
   "cell_type": "code",
   "execution_count": null,
   "id": "4c4df462-0443-46c0-8f79-2eba55eae1ce",
   "metadata": {},
   "outputs": [],
   "source": [
    "#1st order differencing segment of ARIMA makes the data stationary.\n",
    "#convert datatype from string to float\n",
    "\n",
    "df1['Value_diff'] = df1.groupby(['Country'])['Value'].diff().fillna(0)"
   ]
  },
  {
   "cell_type": "code",
   "execution_count": null,
   "id": "e3f34a50-0a3c-4037-9a27-85be1a4d3113",
   "metadata": {},
   "outputs": [],
   "source": [
    "#ADF test for checking the stationarity of data\n",
    "for name in country_name:\n",
    "    X = df1[df1['Country'] == name]['Value_diff'].values\n",
    "    def adf_test(value):\n",
    "        result=adfuller(value)\n",
    "        labels = ['Test parameters', 'p-value','#Lags Used','Dataset observations']\n",
    "        for value,label in zip(result,labels):\n",
    "            print(label+' : '+str(value) )\n",
    "        if result[1] <= 0.05:\n",
    "            print(\"Dataset is stationary\")\n",
    "            print(name)\n",
    "            print(\"\\n\")\n",
    "        else:\n",
    "            print(\"Dataset is non-stationary \")\n",
    "            print(name)\n",
    "            print(\"\\n\")\n",
    "    adf_test(X)"
   ]
  },
  {
   "cell_type": "code",
   "execution_count": null,
   "id": "9ea3ab94-9d04-49d0-b4a4-2fd4c5349358",
   "metadata": {},
   "outputs": [],
   "source": [
    "#2nd order differencing segment of ARIMA makes the data stationary.\n",
    "df1['Value_diff_1'] = df1.groupby(['Country'])['Value_diff'].diff().fillna(0)\n"
   ]
  },
  {
   "cell_type": "code",
   "execution_count": null,
   "id": "6726e497-e71d-4901-a6da-ca05e63ac886",
   "metadata": {},
   "outputs": [],
   "source": [
    "#ADF test for checking the stationarity of data\n",
    "for name in country_name:\n",
    "    X = df1[df1['Country'] == name]['Value_diff_1'].values\n",
    "    def adf_test(value):\n",
    "        result=adfuller(value)\n",
    "        labels = ['Test parameters', 'p-value','#Lags Used','Dataset observations']\n",
    "        for value,label in zip(result,labels):\n",
    "            print(label+' : '+str(value) )\n",
    "        if result[1] <= 0.05:\n",
    "            print(\"Dataset is stationary\")\n",
    "            print(name)\n",
    "            print(\"\\n\")\n",
    "        else:\n",
    "            print(\"Dataset is non-stationary \")\n",
    "            print(name)\n",
    "            print(\"\\n\")\n",
    "    adf_test(X)"
   ]
  },
  {
   "cell_type": "code",
   "execution_count": null,
   "id": "04c6ed66-1148-4b40-a6c3-82bde7ee6ced",
   "metadata": {},
   "outputs": [],
   "source": [
    "#3rd order differencing segment of ARIMA makes the data stationary.\n",
    "df1['Value_diff_2'] = df1.groupby(['Country'])['Value_diff_1'].diff().fillna(0)\n"
   ]
  },
  {
   "cell_type": "code",
   "execution_count": null,
   "id": "8e7a7113-2d4f-4cd8-87a7-974d18d4b0f3",
   "metadata": {},
   "outputs": [],
   "source": [
    "#ADF test for checking the stationarity of data\n",
    "for name in country_name:\n",
    "    X = df1[df1['Country'] == name]['Value_diff_2'].values\n",
    "    def adf_test(value):\n",
    "        result=adfuller(value)\n",
    "        labels = ['Test parameters', 'p-value','#Lags Used','Dataset observations']\n",
    "        for value,label in zip(result,labels):\n",
    "            print(label+' : '+str(value) )\n",
    "        if result[1] <= 0.05:\n",
    "            print(\"Dataset is stationary\")\n",
    "            print(name)\n",
    "            print(\"\\n\")\n",
    "        else:\n",
    "            print(\"Dataset is non-stationary \")\n",
    "            print(name)\n",
    "            print(\"\\n\")\n",
    "    adf_test(X)"
   ]
  },
  {
   "cell_type": "markdown",
   "id": "4c1eaa41-3a29-42ba-b1f2-279aca1c51a6",
   "metadata": {},
   "source": [
    "## Plotting ACF"
   ]
  },
  {
   "cell_type": "code",
   "execution_count": null,
   "id": "e77b69f9-d099-4ca7-a6e0-3d82c5df13c4",
   "metadata": {},
   "outputs": [],
   "source": [
    "# Plotting ACF to get the best value of q.\n",
    "fig, ax = plt.subplots(nrows=len(country_name), figsize=(12,len(country_name)*3.5))\n",
    "for i in country_name:\n",
    "    #print(i)\n",
    "    ind =list(country_name).index(i)\n",
    "    #print(ind)\n",
    "    filt = df1['Country']== i \n",
    "    #print(filt)\n",
    "    sm.graphics.tsa.plot_acf(df1.loc[filt]['Value_diff_2'],ax=ax[ind], lags=28)\n",
    "    ax[ind].set_title(i, size=10)\n",
    "    ax[ind].set_ylabel('Energy Consumption by Year', size=9)\n",
    "    ax[ind].set_xlabel('Year', size=9)\n",
    "    ax[ind].xaxis.set_tick_params(labelsize=9)\n",
    "    ax[ind].yaxis.set_tick_params(labelsize=9)\n",
    "plt.tight_layout() "
   ]
  },
  {
   "cell_type": "markdown",
   "id": "677549e8-daf6-4ff6-8dc0-4d5afb9d7dfc",
   "metadata": {},
   "source": [
    "## Plotting the new dataset"
   ]
  },
  {
   "cell_type": "code",
   "execution_count": null,
   "id": "2b93a1a9-95eb-4d92-9710-e3292f466ea6",
   "metadata": {},
   "outputs": [],
   "source": [
    "#Plotting the new dataset to the stationarity\n",
    "\n",
    "fig, ax = plt.subplots(nrows=len(country_name), figsize=(12,len(country_name)*3.5))\n",
    "for i in country_name:\n",
    "    #print(i)\n",
    "    ind =list(country_name).index(i)\n",
    "    #print(ind)\n",
    "    filt = df1['Country']== i \n",
    "    #print(filt)\n",
    "    ax[ind].plot(df1.loc[filt]['Year'],df1.loc[filt]['Value_diff_2'])\n",
    "    ax[ind].set_title(i, size=10)\n",
    "    ax[ind].set_ylabel('Energy Consumption by Year', size=9)\n",
    "    ax[ind].set_xlabel('Year', size=9)\n",
    "    ax[ind].xaxis.set_tick_params(labelsize=9)\n",
    "    ax[ind].yaxis.set_tick_params(labelsize=9)\n",
    "plt.tight_layout() "
   ]
  },
  {
   "cell_type": "markdown",
   "id": "5bbc17e8-df9f-426e-989e-a3a920aaed72",
   "metadata": {},
   "source": [
    "## Plotting PACF"
   ]
  },
  {
   "cell_type": "code",
   "execution_count": null,
   "id": "3bb24dc8-e6d7-4ce8-b91a-1341b69d1dba",
   "metadata": {},
   "outputs": [],
   "source": [
    "#Plotting PACF to get the best value of p\n",
    "fig, ax = plt.subplots(nrows=len(country_name), figsize=(12,len(country_name)*3.5))\n",
    "for i in country_name:\n",
    "    #print(i)\n",
    "    ind =list(country_name).index(i)\n",
    "    #print(ind)\n",
    "    filt = df1['Country']== i \n",
    "    #print(filt)\n",
    "    sm.graphics.tsa.plot_pacf(df1.loc[filt]['Value_diff_2'],ax=ax[ind],lags=22)\n",
    "    ax[ind].set_title(i, size=10)\n",
    "    ax[ind].set_ylabel('Energy Consumption by Year', size=9)\n",
    "    ax[ind].set_xlabel('Year', size=9)\n",
    "    ax[ind].xaxis.set_tick_params(labelsize=9)\n",
    "    ax[ind].yaxis.set_tick_params(labelsize=9)\n",
    "plt.tight_layout() "
   ]
  },
  {
   "cell_type": "markdown",
   "id": "ec3a1fbd-5e26-460b-97d0-7aab338bcf9b",
   "metadata": {},
   "source": [
    "## Training and Testing the ARIMA model - Accuracy Metrics for Time Series Forecast"
   ]
  },
  {
   "cell_type": "code",
   "execution_count": null,
   "id": "b4ca9e53-20c5-4d43-bba0-d0aefd8dcf3b",
   "metadata": {},
   "outputs": [],
   "source": [
    "# Fitting an ARIMA model and Interpret the result of an ARIMA model\n",
    "warnings.filterwarnings('ignore')\n",
    "dict_org = {}\n",
    "dict_pred = {}\n",
    "country_accuracy = {}\n",
    "for name in range(len(country_name)):\n",
    "    X = df1[df1['Country'] == country_name[name]]['Value'].values\n",
    "    size = int(len(X) * 0.70)\n",
    "    train, test = X[0:size], X[size:len(X)]\n",
    "    history =[x for x in train]\n",
    "    #print(train.shape,test.shape)\n",
    "    predictions = list()\n",
    "    for t in range(len(test)):\n",
    "        model =sm.tsa.arima.ARIMA(history, order = (2,3,1))\n",
    "        model_fit = model.fit()\n",
    "        print(model_fit.summary()) ##The model summary \n",
    "        output = model_fit.forecast()\n",
    "        yhat = output[0]\n",
    "        predictions.append(yhat)\n",
    "        obs = test[t]\n",
    "        history.append(obs)\n",
    "        print(Fore.BLUE +\"Predicted:%f, expected:%f\" %(yhat, obs))\n",
    "        \n",
    "        #the residuals to ensure there are no patterns\n",
    "        residuals = pd.DataFrame(model_fit.resid)\n",
    "    #Accuracy Metrics for Time Series Forecast \n",
    "    mse= mean_squared_error(test, predictions) #Mean Squared Error\n",
    "    mae=mean_absolute_error(test, predictions) #Mean Absolute Error\n",
    "    rmse=sqrt(mse) #RMSE\n",
    "    mape=np.mean(np.abs(predictions-test)/np.abs(test)) #Mean absolute percentage error\n",
    "    corr = np.corrcoef(predictions,test)[0,1] #Correlation between the Actual and the Forecast (corr)\n",
    "  \n",
    "    dict_org.update({country_name[name]: test})\n",
    "    dict_pred.update({country_name[name]: predictions})\n",
    "    print('Accuracy Metrics:')\n",
    "    print(\"Group: \", country_name[name], \"Test MSE:%f\"% mse)\n",
    "    print(\"Group: \", country_name[name], \"Test MAE:%f\"% mae)\n",
    "    print(\"Group: \", country_name[name], \"Test RMSE:%f\"% rmse)\n",
    "    print(\"Group: \", country_name[name], \"Test MAPE:%f\"% mape)\n",
    "    print(\"Group: \", country_name[name], \"Test CORR:%f\"% corr)\n",
    "    country_accuracy.update({country_name[name]: mse,country_name[name]: rmse,country_name[name]: mape,country_name[name]: mae,country_name[name]: corr})\n",
    "    #Plot test and predictions data\n",
    "    plt.plot(test)\n",
    "    plt.plot(predictions, color = 'orange')\n",
    "    plt.legend(['Actual','Predicted'])\n",
    "    plt.xlabel(country_name[name])\n",
    "    plt.show()\n",
    "    # Plot residual errors\n",
    "    residuals.plot(title='Residuals for the data of '+country_name[name])\n",
    "    plt.show()\n",
    "    residuals.plot(kind='kde', title='Density for the data of '+country_name[name])\n",
    "    plt.show()\n",
    "    "
   ]
  },
  {
   "cell_type": "markdown",
   "id": "5ce94d44-ce7a-4263-ad12-91f5f0363074",
   "metadata": {},
   "source": [
    "## Auto ARIMA model - Model Checking"
   ]
  },
  {
   "cell_type": "code",
   "execution_count": null,
   "id": "085f2fee-f173-4151-bf31-256653cb3c6d",
   "metadata": {},
   "outputs": [],
   "source": [
    "dict_original = {}\n",
    "dict_prediction = {}\n",
    "country_accuracy = {}\n",
    "for name in range(len(country_name)):\n",
    "    X = df1[df1['Country'] == country_name[name]]['Value'].values\n",
    "    size = int(len(X) * 0.70)\n",
    "    train, test = X[0:size], X[size:len(X)]\n",
    "    history =[x for x in train]\n",
    "    #print(train.shape,test.shape)\n",
    "    predictions = list()\n",
    "    for t in range(len(test)):\n",
    "        model =auto_arima(history, start_p=1, start_q=1,\n",
    "                      test='adf',       # use adftest to find optimal 'd'\n",
    "                      max_p=3, max_q=3, # maximum p and q\n",
    "                      m=1,              # frequency of series\n",
    "                      d=None,           # let model determine 'd'\n",
    "                      seasonal=False,   # No Seasonality\n",
    "                      start_P=0, \n",
    "                      D=0, \n",
    "                      trace=True,\n",
    "                      error_action='ignore',  \n",
    "                      suppress_warnings=True, \n",
    "                      stepwise=True) # this works \n",
    "        output = model.predict()\n",
    "        yhat = output[0]\n",
    "        predictions.append(yhat)\n",
    "        obs = test[t]\n",
    "        history.append(obs)\n",
    "        print(Fore.BLUE +\"Predicted:%f, expected:%f\" %(yhat, obs))\n",
    "        \n",
    "        \n",
    "    mse= mean_squared_error(test, predictions) #Mean Squared Error\n",
    "    mae=mean_absolute_error(test, predictions) #Mean Absolute Error\n",
    "    rmse=sqrt(mse) #RMSE\n",
    "    mape=np.mean(np.abs(predictions-test)/np.abs(test)) #Mean absolute percentage error\n",
    "    print('Test MSE: %.3f' % mse)\n",
    "    dict_org.update({country_name[name]: test})\n",
    "    dict_pred.update({country_name[name]: predictions})\n",
    "    print(\"Group: \", country_name[name], \"Test MSE:%f\"% mse)\n",
    "    print(\"Group: \", country_name[name], \"Test MAE:%f\"% mae)\n",
    "    print(\"Group: \", country_name[name], \"Test RMSE:%f\"% rmse)\n",
    "    print(\"Group: \", country_name[name], \"Test MAPE:%f\"% mape)\n",
    "    country_accuracy.update({country_name[name]: mse,country_name[name]: rmse,country_name[name]: mape,country_name[name]: mae})\n",
    "    \n",
    "    #Plotting\n",
    "    plt.plot(test)\n",
    "    plt.plot(predictions, color = 'orange')\n",
    "    plt.legend(['Actual','Predicted'])\n",
    "    plt.xlabel(country_name[name])\n",
    "    plt.show()"
   ]
  },
  {
   "cell_type": "code",
   "execution_count": null,
   "id": "de26de29-071e-4f7a-bf3d-f9cb8b16d058",
   "metadata": {},
   "outputs": [],
   "source": []
  }
 ],
 "metadata": {
  "kernelspec": {
   "display_name": "Python 3 (ipykernel)",
   "language": "python",
   "name": "python3"
  },
  "language_info": {
   "codemirror_mode": {
    "name": "ipython",
    "version": 3
   },
   "file_extension": ".py",
   "mimetype": "text/x-python",
   "name": "python",
   "nbconvert_exporter": "python",
   "pygments_lexer": "ipython3",
   "version": "3.9.7"
  }
 },
 "nbformat": 4,
 "nbformat_minor": 5
}
