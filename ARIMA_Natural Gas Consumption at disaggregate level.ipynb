{
 "cells": [
  {
   "cell_type": "markdown",
   "id": "cab66c9c-91ad-411b-a16c-63bb43be1cc4",
   "metadata": {},
   "source": [
    "## Import data "
   ]
  },
  {
   "cell_type": "code",
   "execution_count": null,
   "id": "a60a01f3-7bc7-486e-8a67-812c3360e3a9",
   "metadata": {},
   "outputs": [],
   "source": [
    "import os\n",
    "import warnings\n",
    "warnings.filterwarnings('ignore')\n",
    "\n",
    "import pandas as pd\n",
    "import numpy as np\n",
    "import matplotlib.pyplot as plt\n",
    "\n",
    "from scipy.stats import shapiro \n",
    "\n",
    "from sklearn.metrics import mean_squared_error\n",
    "from math import sqrt\n",
    "from sklearn.metrics import mean_absolute_error\n",
    "\n",
    "import statsmodels.api as sm\n",
    "from statsmodels.tsa.stattools import adfuller\n",
    "from statsmodels.graphics.tsaplots import plot_acf,plot_pacf\n",
    "from statsmodels.graphics.tsaplots import plot_predict\n",
    "\n",
    "import seaborn as sns\n",
    "\n",
    "import colorama\n",
    "from colorama import Fore, Style\n",
    "\n",
    "! pip install pmdarima\n",
    "from pmdarima import auto_arima"
   ]
  },
  {
   "cell_type": "code",
   "execution_count": null,
   "id": "54e8a68b-45d1-4ef7-adb1-d96b66cf65e1",
   "metadata": {},
   "outputs": [],
   "source": [
    "df = pd.read_csv('Natural Gas Consumption at disaggregate level.csv',delimiter=';')\n",
    "\n",
    "df.head()"
   ]
  },
  {
   "cell_type": "markdown",
   "id": "104aafba-436c-489f-b3e3-fdb02c98f534",
   "metadata": {},
   "source": [
    "## Data Preprocessing and Visualization "
   ]
  },
  {
   "cell_type": "code",
   "execution_count": null,
   "id": "c2c61a61-ba95-43e4-a95b-8dbdbc3bc6b2",
   "metadata": {},
   "outputs": [],
   "source": [
    "#reorganize data columns\n",
    "df1 = pd.melt(df, id_vars=[\"Country\"], var_name=\"Year\", value_name=\"Value\")\n",
    "\n",
    "df1.shape"
   ]
  },
  {
   "cell_type": "code",
   "execution_count": null,
   "id": "15e7b3b0-0a31-4321-a9bc-3d0631c97290",
   "metadata": {},
   "outputs": [],
   "source": [
    "df1.head()"
   ]
  },
  {
   "cell_type": "code",
   "execution_count": null,
   "id": "3f119688-3ca6-46be-85b7-174d9866ed38",
   "metadata": {},
   "outputs": [],
   "source": [
    "#Eliminate the countries which are not in European Union\n",
    "values = ['Iceland','Norway','Switzerland','Turkey','Ukraine', 'United Kingdom', 'Other Europe']\n",
    "df1 = df1[df1.Country.isin(values) == False]\n",
    "df1"
   ]
  },
  {
   "cell_type": "code",
   "execution_count": null,
   "id": "4a2bc526-0816-46f8-9eff-10d226405268",
   "metadata": {},
   "outputs": [],
   "source": [
    "#convert datatype from string to float\n",
    "df1[\"Value\"] =[float(str(i).replace(',','.')) for i in df1[\"Value\"]] "
   ]
  },
  {
   "cell_type": "code",
   "execution_count": null,
   "id": "a5a6a4df-e253-460b-af20-89bb1a853cfd",
   "metadata": {},
   "outputs": [],
   "source": [
    "df1.dtypes #check the data types"
   ]
  },
  {
   "cell_type": "code",
   "execution_count": null,
   "id": "b276583d-9272-43bb-bcfa-c17d4ac8eabc",
   "metadata": {},
   "outputs": [],
   "source": [
    "#See whether the dataset has any null value\n",
    "df1.isnull().sum()"
   ]
  },
  {
   "cell_type": "code",
   "execution_count": null,
   "id": "285d3429-7e0f-4e32-96a6-d6be8b53ed5d",
   "metadata": {},
   "outputs": [],
   "source": [
    "#pivot feature to see the visualization\n",
    "df1 = df1.pivot_table('Value', ['Year'], 'Country').reset_index()"
   ]
  },
  {
   "cell_type": "code",
   "execution_count": null,
   "id": "4d7a2c2f-d9fa-4b69-b450-24d53341a3ba",
   "metadata": {},
   "outputs": [],
   "source": [
    "#Covert Year to date column\n",
    "df1['Year'] = pd.to_datetime(df1['Year'])"
   ]
  },
  {
   "cell_type": "code",
   "execution_count": null,
   "id": "e96a5584-a51e-487e-a025-63d09404a0aa",
   "metadata": {},
   "outputs": [],
   "source": [
    "#create a country list\n",
    "country_name=np.array(df1.columns.unique())\n",
    "country_name = np.delete(country_name, 0)\n",
    "print(country_name)"
   ]
  },
  {
   "cell_type": "code",
   "execution_count": null,
   "id": "7d985c3a-219a-428e-a4c6-f4010efb5b42",
   "metadata": {},
   "outputs": [],
   "source": [
    "#the info of dataset\n",
    "df1.info()"
   ]
  },
  {
   "cell_type": "code",
   "execution_count": null,
   "id": "be41755c-a150-48cd-a297-a72b4a460508",
   "metadata": {},
   "outputs": [],
   "source": [
    "# To compelte the data, as naive method, we will use ffill\n",
    "f, ax = plt.subplots(nrows=len(country_name), ncols=1,  figsize=(12,len(country_name)*3.5))\n",
    "for i, column in enumerate(df1.drop('Year', axis=1).columns):\n",
    "    sns.lineplot(x=df1['Year'], y=df1[column].fillna(method='ffill'), ax=ax[i], color='dodgerblue')\n",
    "    ax[i].set_title('{}'.format(column), fontsize=14)\n",
    "    ax[i].set_ylabel(ylabel='Natural Gas consumption at disaggregate level by Year', fontsize=8)\n",
    "    ax[i].set_xlabel('Year', size=10)\n",
    "    ax[i].xaxis.set_tick_params(labelsize=9)\n",
    "    ax[i].yaxis.set_tick_params(labelsize=9)\n",
    "plt.tight_layout() "
   ]
  },
  {
   "cell_type": "markdown",
   "id": "b10936d1-ceac-45a5-9a5e-5750b0cb6a63",
   "metadata": {},
   "source": [
    "## Handle Missings and Descriptive statistics"
   ]
  },
  {
   "cell_type": "code",
   "execution_count": null,
   "id": "923235ba-a543-42f4-98ff-266bdd587960",
   "metadata": {},
   "outputs": [],
   "source": [
    "df1 = pd.melt(df1, id_vars=[\"Year\"], var_name=\"Country\", value_name=\"Value\")\n",
    "\n",
    "df1.shape"
   ]
  },
  {
   "cell_type": "code",
   "execution_count": null,
   "id": "6dead3b7-cd61-481d-b0a5-7572cda40e43",
   "metadata": {},
   "outputs": [],
   "source": [
    "df1[\"Value\"] =[float(str(i).replace(',','.')) for i in df1[\"Value\"]] "
   ]
  },
  {
   "cell_type": "code",
   "execution_count": null,
   "id": "5baa20cf-aeea-4c7a-b542-668c12762644",
   "metadata": {},
   "outputs": [],
   "source": [
    "# fill null data with the mean of each group\n",
    "\n",
    "df1['Value']= df1.groupby('Country')['Value'].apply(lambda x: x.fillna(x.mean()))"
   ]
  },
  {
   "cell_type": "code",
   "execution_count": null,
   "id": "75214149-6aeb-4305-a115-87e9aa1e6012",
   "metadata": {},
   "outputs": [],
   "source": [
    "#round up after comma\n",
    "df1['Value']=round(df1['Value'],2) \n",
    "df1.head()"
   ]
  },
  {
   "cell_type": "code",
   "execution_count": null,
   "id": "7f95b6d8-3478-4096-b285-745e5eb99765",
   "metadata": {},
   "outputs": [],
   "source": [
    "df1 = df1.pivot_table('Value', ['Year'], 'Country').reset_index()"
   ]
  },
  {
   "cell_type": "code",
   "execution_count": null,
   "id": "3c192fcc-c889-48fa-9aeb-f75be8d131f1",
   "metadata": {},
   "outputs": [],
   "source": [
    "# The descriptive statistic information for each country\n",
    "df1_describe=df1.describe()\n",
    "df1_describe.loc['var'] = df1.var().tolist() #variance\n",
    "df1_describe.loc['skew'] = df1.skew().tolist() #skewness\n",
    "df1_describe.loc['kurt'] = df1.kurtosis().tolist() #kurtosis"
   ]
  },
  {
   "cell_type": "code",
   "execution_count": null,
   "id": "1b225c7e-ec11-479a-b918-866435bfdbf3",
   "metadata": {},
   "outputs": [],
   "source": [
    "my_natural_gas_data_description=df1_describe.T\n",
    "my_natural_gas_data_description.to_csv(\"my_natural_gas_data_description.csv\") #save as csv file"
   ]
  },
  {
   "cell_type": "markdown",
   "id": "d68c5cdd-f17f-4b1e-b7a7-453517de309f",
   "metadata": {},
   "source": [
    "# Stationarity"
   ]
  },
  {
   "cell_type": "markdown",
   "id": "4bdb1524-6cc3-4b36-9662-be2db441aae5",
   "metadata": {},
   "source": [
    "## Augmented Dickey-Fuller (ADF)"
   ]
  },
  {
   "cell_type": "code",
   "execution_count": null,
   "id": "584c24d3-7be9-44f5-ba60-5b87546c29c4",
   "metadata": {},
   "outputs": [],
   "source": [
    "#ADF test to check the stationarity of each country's data\n",
    "for name in country_name:\n",
    "    def adf_test(value):\n",
    "        result=adfuller(value)\n",
    "        labels = ['Test parameters', 'p-value','#Lags Used','Dataset observations']\n",
    "        for value,label in zip(result,labels):\n",
    "            print(label+' : '+str(value) )\n",
    "        if result[1] <= 0.05:\n",
    "            print(\"Dataset is stationary\")\n",
    "            print(name)\n",
    "            print(\"\\n\")\n",
    "        else:\n",
    "            print(\"Dataset is non-stationary \")\n",
    "            print(name)\n",
    "            print(\"\\n\")\n",
    "    adf_test(df1[name])"
   ]
  },
  {
   "cell_type": "markdown",
   "id": "6c47177a-7cd6-4675-a2b6-bb4187d0d835",
   "metadata": {},
   "source": [
    "## Normality test:"
   ]
  },
  {
   "cell_type": "code",
   "execution_count": null,
   "id": "ef8b343e-4432-4b97-8795-a89a8371bdf2",
   "metadata": {},
   "outputs": [],
   "source": [
    "df1 = pd.melt(df1, id_vars=[\"Year\"], \n",
    "                  var_name=\"Country\", value_name=\"Value\")\n",
    "df1.head()"
   ]
  },
  {
   "cell_type": "code",
   "execution_count": null,
   "id": "10cc42bb-0c51-4957-9891-f2f338b4f959",
   "metadata": {},
   "outputs": [],
   "source": [
    "my_normality_test=(df1.groupby('Country')[['Value']].apply(lambda x: pd.Series(shapiro(x), index=['Shapiro-Wilk','P'])).reset_index())\n",
    "my_normality_test.to_csv(\"my_normality_test_natural_gas_consumption.csv\") #save as csv file"
   ]
  },
  {
   "cell_type": "markdown",
   "id": "8cb5d105-19db-4d72-974b-cab561fcbce6",
   "metadata": {},
   "source": [
    "## Plotting Autocorrelation Function (ACF) for seasonality inspection"
   ]
  },
  {
   "cell_type": "code",
   "execution_count": null,
   "id": "c5367fea-a16a-4662-ab16-fba0f2ccc514",
   "metadata": {},
   "outputs": [],
   "source": [
    "#Autocorrelation visualization to check whether the data of each country is stationary\n",
    "fig, ax = plt.subplots(nrows=len(country_name), figsize=(12,len(country_name)*3.5))\n",
    "for i in country_name:\n",
    "    #print(i)\n",
    "    ind =list(country_name).index(i)\n",
    "    #print(ind)\n",
    "    filt = df1['Country']== i \n",
    "    #print(filt)\n",
    "    sm.graphics.tsa.plot_acf(df1.loc[filt]['Value'],ax=ax[ind])\n",
    "    ax[ind].set_title(i, size=10)\n",
    "    ax[ind].set_ylabel('Natural Gas Consumption by Year', size=9)\n",
    "    ax[ind].set_xlabel('Year', size=9)\n",
    "    ax[ind].xaxis.set_tick_params(labelsize=9)\n",
    "    ax[ind].yaxis.set_tick_params(labelsize=9)\n",
    "\n",
    "plt.tight_layout() "
   ]
  },
  {
   "cell_type": "markdown",
   "id": "113f4968-5d7f-455e-a432-5b00fb8f7fe1",
   "metadata": {},
   "source": [
    "## Implementing Differencing"
   ]
  },
  {
   "cell_type": "code",
   "execution_count": null,
   "id": "69347e25-7fc8-4545-b382-80e53d153808",
   "metadata": {},
   "outputs": [],
   "source": [
    "#1st order differencing segment of ARIMA makes the data stationary.\n",
    "\n",
    "df1['Value_diff'] = df1.groupby(['Country'])['Value'].diff().fillna(0)"
   ]
  },
  {
   "cell_type": "code",
   "execution_count": null,
   "id": "584ec024-2b84-4848-8d93-ce509e26484d",
   "metadata": {},
   "outputs": [],
   "source": [
    "#ADF test for checking the stationarity of data\n",
    "for name in country_name:\n",
    "    X = df1[df1['Country'] == name]['Value_diff'].values\n",
    "    def adf_test(value):\n",
    "        result=adfuller(value)\n",
    "        labels = ['Test parameters', 'p-value','#Lags Used','Dataset observations']\n",
    "        for value,label in zip(result,labels):\n",
    "            print(label+' : '+str(value) )\n",
    "        if result[1] <= 0.05:\n",
    "            print(\"Dataset is stationary\")\n",
    "            print(name)\n",
    "            print(\"\\n\")\n",
    "        else:\n",
    "            print(\"Dataset is non-stationary \")\n",
    "            print(name)\n",
    "            print(\"\\n\")\n",
    "    adf_test(X)"
   ]
  },
  {
   "cell_type": "code",
   "execution_count": null,
   "id": "b62a8a3a-e13c-4267-906f-b7c514f5201f",
   "metadata": {},
   "outputs": [],
   "source": [
    "#2nd order differencing segment of ARIMA makes the data stationary.\n",
    "df1['Value_diff_1'] = df1.groupby(['Country'])['Value_diff'].diff().fillna(0)"
   ]
  },
  {
   "cell_type": "code",
   "execution_count": null,
   "id": "410b4aad-1100-42e0-af99-cfdc3a669ef2",
   "metadata": {},
   "outputs": [],
   "source": [
    "#ADF test for checking the stationarity of data\n",
    "for name in country_name:\n",
    "    X = df1[df1['Country'] == name]['Value_diff_1'].values\n",
    "    def adf_test(value):\n",
    "        result=adfuller(value)\n",
    "        labels = ['Test parameters', 'p-value','#Lags Used','Dataset observations']\n",
    "        for value,label in zip(result,labels):\n",
    "            print(label+' : '+str(value) )\n",
    "        if result[1] <= 0.05:\n",
    "            print(\"Dataset is stationary\")\n",
    "            print(name)\n",
    "            print(\"\\n\")\n",
    "        else:\n",
    "            print(\"Dataset is non-stationary \")\n",
    "            print(name)\n",
    "            print(\"\\n\")\n",
    "    adf_test(X)"
   ]
  },
  {
   "cell_type": "code",
   "execution_count": null,
   "id": "fbd11773-ab96-480d-8e0d-0f2ca1e38f01",
   "metadata": {},
   "outputs": [],
   "source": [
    "#2nd order differencing segment of ARIMA makes the data stationary.\n",
    "df1['Value_diff_2'] = df1.groupby(['Country'])['Value_diff_1'].diff().fillna(0)"
   ]
  },
  {
   "cell_type": "code",
   "execution_count": null,
   "id": "36301938-534d-4ab8-bc21-c87059b42371",
   "metadata": {},
   "outputs": [],
   "source": [
    "#ADF test for checking the stationarity of data\n",
    "for name in country_name:\n",
    "    X = df1[df1['Country'] == name]['Value_diff_2'].values\n",
    "    def adf_test(value):\n",
    "        result=adfuller(value)\n",
    "        labels = ['Test parameters', 'p-value','#Lags Used','Dataset observations']\n",
    "        for value,label in zip(result,labels):\n",
    "            print(label+' : '+str(value) )\n",
    "        if result[1] <= 0.05:\n",
    "            print(\"Dataset is stationary\")\n",
    "            print(name)\n",
    "            print(\"\\n\")\n",
    "        else:\n",
    "            print(\"Dataset is non-stationary \")\n",
    "            print(name)\n",
    "            print(\"\\n\")\n",
    "    adf_test(X)"
   ]
  },
  {
   "cell_type": "markdown",
   "id": "db4253de-b096-46d6-a77a-75e9a50a7429",
   "metadata": {},
   "source": [
    "## Plotting ACF"
   ]
  },
  {
   "cell_type": "code",
   "execution_count": null,
   "id": "322b4c3a-cf3c-4fcd-a6ee-60c04c7071f8",
   "metadata": {},
   "outputs": [],
   "source": [
    "# Plotting ACF to get the best value of q.\n",
    "fig, ax = plt.subplots(nrows=len(country_name), figsize=(12,len(country_name)*3.5))\n",
    "for i in country_name:\n",
    "    #print(i)\n",
    "    ind =list(country_name).index(i)\n",
    "    #print(ind)\n",
    "    filt = df1['Country']== i \n",
    "    #print(filt)\n",
    "    sm.graphics.tsa.plot_acf(df1.loc[filt]['Value_diff_2'],ax=ax[ind], lags=45)\n",
    "    ax[ind].set_title(i, size=10)\n",
    "    ax[ind].set_ylabel('Natural Gas Consumption by Year', size=9)\n",
    "    ax[ind].set_xlabel('Year', size=9)\n",
    "    ax[ind].xaxis.set_tick_params(labelsize=9)\n",
    "    ax[ind].yaxis.set_tick_params(labelsize=9)\n",
    "plt.tight_layout() "
   ]
  },
  {
   "cell_type": "markdown",
   "id": "5c85001c-b947-431e-b563-fe4b0086ba81",
   "metadata": {},
   "source": [
    "## Plotting the new dataset"
   ]
  },
  {
   "cell_type": "code",
   "execution_count": null,
   "id": "3b066f44-64dd-4317-9f65-cc7d88ca6c7c",
   "metadata": {},
   "outputs": [],
   "source": [
    "#Plotting the new dataset to the stationarity\n",
    "fig, ax = plt.subplots(nrows=len(country_name), figsize=(12,len(country_name)*3.5))\n",
    "for i in country_name:\n",
    "    #print(i)\n",
    "    ind =list(country_name).index(i)\n",
    "    #print(ind)\n",
    "    filt = df1['Country']== i \n",
    "    #print(filt)\n",
    "    ax[ind].plot(df1.loc[filt]['Year'],df1.loc[filt]['Value_diff_2'])\n",
    "    ax[ind].set_title(i, size=10)\n",
    "    ax[ind].set_ylabel('Natural Gas Consumption by Year', size=9)\n",
    "    ax[ind].set_xlabel('Year', size=9)\n",
    "    ax[ind].xaxis.set_tick_params(labelsize=9)\n",
    "    ax[ind].yaxis.set_tick_params(labelsize=9)\n",
    "plt.tight_layout() "
   ]
  },
  {
   "cell_type": "markdown",
   "id": "f7ba80d7-feda-4960-aa67-1eede8425b02",
   "metadata": {},
   "source": [
    "## Plotting PACF"
   ]
  },
  {
   "cell_type": "code",
   "execution_count": null,
   "id": "d51ce5b3-e950-4a2e-90b8-6bfc036ef8aa",
   "metadata": {},
   "outputs": [],
   "source": [
    "#Plotting PACF to get the best value of p\n",
    "fig, ax = plt.subplots(nrows=len(country_name), figsize=(12,len(country_name)*3.5))\n",
    "for i in country_name:\n",
    "    #print(i)\n",
    "    ind =list(country_name).index(i)\n",
    "    #print(ind)\n",
    "    filt = df1['Country']== i \n",
    "    #print(filt)\n",
    "    sm.graphics.tsa.plot_pacf(df1.loc[filt]['Value_diff_2'],ax=ax[ind],lags=22)\n",
    "    ax[ind].set_title(i, size=10)\n",
    "    ax[ind].set_ylabel('Natural Gas Consumption by Year', size=9)\n",
    "    ax[ind].set_xlabel('Year', size=9)\n",
    "    ax[ind].xaxis.set_tick_params(labelsize=9)\n",
    "    ax[ind].yaxis.set_tick_params(labelsize=9)\n",
    "plt.tight_layout() "
   ]
  },
  {
   "cell_type": "markdown",
   "id": "b98c1eb5-bfaf-4b36-aa27-0e5f0efab172",
   "metadata": {},
   "source": [
    "## Training and Testing the ARIMA model - Accuracy Metrics for Time Series Forecast"
   ]
  },
  {
   "cell_type": "code",
   "execution_count": null,
   "id": "549c3681-52b6-4463-a2b9-f67cf21c1371",
   "metadata": {},
   "outputs": [],
   "source": [
    "warnings.filterwarnings('ignore')\n",
    "# Fitting an ARIMA model and Interpret the result of an ARIMA model\n",
    "warnings.filterwarnings('ignore')\n",
    "dict_org = {}\n",
    "dict_pred = {}\n",
    "country_accuracy = {}\n",
    "for name in range(len(country_name)):\n",
    "    X = df1[df1['Country'] == country_name[name]]['Value'].values\n",
    "    size = int(len(X) * 0.70)\n",
    "    train, test = X[0:size], X[size:len(X)]\n",
    "    history =[x for x in train]\n",
    "    #print(train.shape,test.shape)\n",
    "    predictions = list()\n",
    "    for t in range(len(test)):\n",
    "        model = sm.tsa.arima.ARIMA(history, order = (2,3,1))\n",
    "        model_fit = model.fit()\n",
    "        output = model_fit.forecast()\n",
    "        yhat = output[0]\n",
    "        predictions.append(yhat)\n",
    "        obs = test[t]\n",
    "        history.append(obs)\n",
    "        print(Fore.BLUE +\"Predicted:%f, expected:%f\" %(yhat, obs))\n",
    "        \n",
    "        #the residuals to ensure there are no patterns\n",
    "        residuals = pd.DataFrame(model_fit.resid)\n",
    "    #Accuracy Metrics for Time Series Forecast \n",
    "    mse= mean_squared_error(test, predictions) #Mean Squared Error\n",
    "    mae=mean_absolute_error(test, predictions) #Mean Absolute Error\n",
    "    rmse=sqrt(mse) #RMSE\n",
    "    mape=np.mean(np.abs(predictions-test)/np.abs(test)) #Mean absolute percentage error\n",
    "    corr = np.corrcoef(predictions,test)[0,1] #Correlation between the Actual and the Forecast (corr)\n",
    "  \n",
    "    dict_org.update({country_name[name]: test})\n",
    "    dict_pred.update({country_name[name]: predictions})\n",
    "    print('Accuracy Metrics:')\n",
    "    print(\"Group: \", country_name[name], \"Test MSE:%f\"% mse)\n",
    "    print(\"Group: \", country_name[name], \"Test MAE:%f\"% mae)\n",
    "    print(\"Group: \", country_name[name], \"Test RMSE:%f\"% rmse)\n",
    "    print(\"Group: \", country_name[name], \"Test MAPE:%f\"% mape)\n",
    "    print(\"Group: \", country_name[name], \"Test CORR:%f\"% corr)\n",
    "    country_accuracy.update({country_name[name]: mse,country_name[name]: rmse,country_name[name]: mape,country_name[name]: mae,country_name[name]: corr})\n",
    "    #Plot test and predictions data\n",
    "    plt.plot(test)\n",
    "    plt.plot(predictions, color = 'orange')\n",
    "    plt.legend(['Actual','Predicted'])\n",
    "    plt.xlabel(country_name[name])\n",
    "    plt.show()\n",
    "    # Plot residual errors\n",
    "    residuals.plot(title='Residuals for the data of '+country_name[name])\n",
    "    plt.show()\n",
    "    residuals.plot(kind='kde', title='Density for the data of '+country_name[name])\n",
    "    plt.show()"
   ]
  },
  {
   "cell_type": "markdown",
   "id": "341fcfa9-5c3f-41a3-b50a-3f716a2deddb",
   "metadata": {},
   "source": [
    "## Auto ARIMA model- Model Checking"
   ]
  },
  {
   "cell_type": "code",
   "execution_count": null,
   "id": "9f5ebb99-d8f2-413c-9fd3-802b21d8342f",
   "metadata": {},
   "outputs": [],
   "source": [
    "dict_original = {}\n",
    "dict_prediction = {}\n",
    "country_accuracy = {}\n",
    "for name in range(len(country_name)):\n",
    "    X = df1[df1['Country'] == country_name[name]]['Value'].values\n",
    "    size = int(len(X) * 0.70)\n",
    "    train, test = X[0:size], X[size:len(X)]\n",
    "    history =[x for x in train]\n",
    "    #print(train.shape,test.shape)\n",
    "    predictions = list()\n",
    "    for t in range(len(test)):\n",
    "        model =auto_arima(history, start_p=1, start_q=1,\n",
    "                      test='adf',       # use adftest to find optimal 'd'\n",
    "                      max_p=3, max_q=3, # maximum p and q\n",
    "                      m=1,              # frequency of series\n",
    "                      d=None,           # let model determine 'd'\n",
    "                      seasonal=False,   # No Seasonality\n",
    "                      start_P=0, \n",
    "                      D=0, \n",
    "                      trace=True,\n",
    "                      error_action='ignore',  \n",
    "                      suppress_warnings=True, \n",
    "                      stepwise=True) # this works \n",
    "        output = model.predict()\n",
    "        yhat = output[0]\n",
    "        predictions.append(yhat)\n",
    "        obs = test[t]\n",
    "        history.append(obs)\n",
    "        print(Fore.BLUE +\"Predicted:%f, expected:%f\" %(yhat, obs))\n",
    "        \n",
    "        \n",
    "    mse= mean_squared_error(test, predictions) #Mean Squared Error\n",
    "    mae=mean_absolute_error(test, predictions) #Mean Absolute Error\n",
    "    rmse=sqrt(error) #RMSE\n",
    "    mape=np.mean(np.abs(predictions-test)/np.abs(test)) #Mean absolute percentage error\n",
    "    print('Test MSE: %.3f' % error)\n",
    "    dict_org.update({country_name[name]: test})\n",
    "    dict_pred.update({country_name[name]: predictions})\n",
    "    print(\"Group: \", country_name[name], \"Test MSE:%f\"% mse)\n",
    "    print(\"Group: \", country_name[name], \"Test MAE:%f\"% mae)\n",
    "    print(\"Group: \", country_name[name], \"Test RMSE:%f\"% rmse)\n",
    "    print(\"Group: \", country_name[name], \"Test MAPE:%f\"% mape)\n",
    "    country_accuracy.update({country_name[name]: mse,country_name[name]: rmse,country_name[name]: mape,country_name[name]: mae})\n",
    "    \n",
    "    #Plotting\n",
    "    plt.plot(test)\n",
    "    plt.plot(predictions, color = 'orange')\n",
    "    plt.legend(['Actual','Predicted'])\n",
    "    plt.xlabel(country_name[name])\n",
    "    plt.show()"
   ]
  }
 ],
 "metadata": {
  "kernelspec": {
   "display_name": "Python 3 (ipykernel)",
   "language": "python",
   "name": "python3"
  },
  "language_info": {
   "codemirror_mode": {
    "name": "ipython",
    "version": 3
   },
   "file_extension": ".py",
   "mimetype": "text/x-python",
   "name": "python",
   "nbconvert_exporter": "python",
   "pygments_lexer": "ipython3",
   "version": "3.9.7"
  }
 },
 "nbformat": 4,
 "nbformat_minor": 5
}
