{
 "cells": [
  {
   "cell_type": "markdown",
   "id": "7326149c-444d-42fe-a9ae-ef5441b2f636",
   "metadata": {},
   "source": [
    "## Import data "
   ]
  },
  {
   "cell_type": "code",
   "execution_count": null,
   "id": "bf9f1e28-5a12-4e7a-a915-09d1e8918591",
   "metadata": {},
   "outputs": [],
   "source": [
    "import os\n",
    "import warnings\n",
    "warnings.filterwarnings('ignore')\n",
    "\n",
    "import pandas as pd\n",
    "import numpy as np\n",
    "import matplotlib.pyplot as plt\n",
    "\n",
    "from scipy.stats import shapiro \n",
    "\n",
    "from sklearn.metrics import mean_squared_error\n",
    "from math import sqrt\n",
    "from sklearn.metrics import mean_absolute_error\n",
    "\n",
    "import statsmodels.api as sm\n",
    "from statsmodels.tsa.stattools import adfuller\n",
    "from statsmodels.graphics.tsaplots import plot_acf,plot_pacf\n",
    "from statsmodels.graphics.tsaplots import plot_predict\n",
    "\n",
    "import seaborn as sns\n",
    "\n",
    "import colorama\n",
    "from colorama import Fore, Style\n",
    "\n",
    "! pip install pmdarima\n",
    "from pmdarima import auto_arima"
   ]
  },
  {
   "cell_type": "code",
   "execution_count": null,
   "id": "20e9fccc-16ea-4888-89ea-063685b23237",
   "metadata": {},
   "outputs": [],
   "source": [
    "df = pd.read_csv('Oil consumption at disaggregate level.csv',delimiter=';')\n",
    "\n",
    "df.head()"
   ]
  },
  {
   "cell_type": "markdown",
   "id": "350bcc4d-e0a1-4e79-89a9-43af6c182e28",
   "metadata": {},
   "source": [
    "## Data Preprocessing and Visualization "
   ]
  },
  {
   "cell_type": "code",
   "execution_count": null,
   "id": "22f03708-f3c7-47c3-8f67-09fe55252ca0",
   "metadata": {},
   "outputs": [],
   "source": [
    "#reorganize data columns\n",
    "df1 = pd.melt(df, id_vars=[\"Country\"], var_name=\"Year\", value_name=\"Value\")\n",
    "\n",
    "df1.shape"
   ]
  },
  {
   "cell_type": "code",
   "execution_count": null,
   "id": "134b726a-7c7e-49f0-acab-231e69fcb119",
   "metadata": {},
   "outputs": [],
   "source": [
    "df1.head()"
   ]
  },
  {
   "cell_type": "code",
   "execution_count": null,
   "id": "af3301f4-8b83-4d60-816c-da4b4e31861a",
   "metadata": {},
   "outputs": [],
   "source": [
    "#Eliminate the countries which are not in European Union\n",
    "values = ['Iceland','Norway','Switzerland','Turkey','Ukraine', 'United Kingdom', 'Other Europe']\n",
    "df1 = df1[df1.Country.isin(values) == False]\n",
    "df1"
   ]
  },
  {
   "cell_type": "code",
   "execution_count": null,
   "id": "ecf1e51b-bf03-48cf-b32c-3dbd725628ac",
   "metadata": {},
   "outputs": [],
   "source": [
    "#convert datatype from string to float\n",
    "df1[\"Value\"] =[float(str(i).replace(',','.')) for i in df1[\"Value\"]] "
   ]
  },
  {
   "cell_type": "code",
   "execution_count": null,
   "id": "195e54b9-6866-481e-bfd7-e18a2a31936e",
   "metadata": {},
   "outputs": [],
   "source": [
    "df1.dtypes #check the data types"
   ]
  },
  {
   "cell_type": "code",
   "execution_count": null,
   "id": "be54735e-ca96-42c0-9867-0633708154e5",
   "metadata": {},
   "outputs": [],
   "source": [
    "#See whether the dataset has any null value\n",
    "df1.isnull().sum()"
   ]
  },
  {
   "cell_type": "code",
   "execution_count": null,
   "id": "d9275968-dbc8-48f5-a704-6f936fa9e367",
   "metadata": {},
   "outputs": [],
   "source": [
    "df1.head()"
   ]
  },
  {
   "cell_type": "code",
   "execution_count": null,
   "id": "f84f9983-a287-4271-8c5a-450f10197744",
   "metadata": {},
   "outputs": [],
   "source": [
    "#pivot feature to see the visualization\n",
    "df1 = df1.pivot_table('Value', ['Year'], 'Country').reset_index()"
   ]
  },
  {
   "cell_type": "code",
   "execution_count": null,
   "id": "21fd2105-ab9d-4c9b-a92a-39464070798a",
   "metadata": {},
   "outputs": [],
   "source": [
    "#Covert Year to date column\n",
    "df1['Year'] = pd.to_datetime(df1['Year'])"
   ]
  },
  {
   "cell_type": "code",
   "execution_count": null,
   "id": "55ff4804-84e4-4ab4-b7b0-9cddfb3720a4",
   "metadata": {},
   "outputs": [],
   "source": [
    "#create a country list\n",
    "country_name=np.array(df1.columns.unique())\n",
    "print(country_name)"
   ]
  },
  {
   "cell_type": "code",
   "execution_count": null,
   "id": "ee352089-fe2d-4527-bedb-88a6567d60e1",
   "metadata": {},
   "outputs": [],
   "source": [
    "country_name = np.delete(country_name, 0)"
   ]
  },
  {
   "cell_type": "code",
   "execution_count": null,
   "id": "e2349c8f-7e54-4d7c-9cc6-2efb10eb3410",
   "metadata": {},
   "outputs": [],
   "source": [
    "#the info of dataset\n",
    "df1.info()"
   ]
  },
  {
   "cell_type": "code",
   "execution_count": null,
   "id": "d41b1c16-fcf8-4b17-b63c-1cb14fe958ea",
   "metadata": {},
   "outputs": [],
   "source": [
    "# To compelte the data, as naive method, we will use ffill\n",
    "f, ax = plt.subplots(nrows=len(country_name), ncols=1,  figsize=(12,len(country_name)*3.5))\n",
    "for i, column in enumerate(df1.drop('Year', axis=1).columns):\n",
    "    sns.lineplot(x=df1['Year'], y=df1[column].fillna(method='ffill'), ax=ax[i], color='dodgerblue')\n",
    "    ax[i].set_title('{}'.format(column), fontsize=14)\n",
    "    ax[i].set_ylabel(ylabel='Oil consumption at disaggregate level by Year', fontsize=8)\n",
    "    ax[i].set_xlabel('Year', size=10)\n",
    "    ax[i].xaxis.set_tick_params(labelsize=9)\n",
    "    ax[i].yaxis.set_tick_params(labelsize=9)\n",
    "plt.tight_layout() "
   ]
  },
  {
   "cell_type": "markdown",
   "id": "c945cb18-0cf2-45ea-871a-02ebeaceaa05",
   "metadata": {},
   "source": [
    "## Handle Missings and Descriptive statistics"
   ]
  },
  {
   "cell_type": "code",
   "execution_count": null,
   "id": "cd484c5d-a5de-45c9-86c8-89ff75fbe9ff",
   "metadata": {},
   "outputs": [],
   "source": [
    "df1 = pd.melt(df1, id_vars=[\"Year\"], var_name=\"Country\", value_name=\"Value\")\n",
    "\n",
    "df1.shape"
   ]
  },
  {
   "cell_type": "code",
   "execution_count": null,
   "id": "6f493e00-6a88-4698-a105-3d80b0c1c77a",
   "metadata": {},
   "outputs": [],
   "source": [
    "df1[\"Value\"] =[float(str(i).replace(',','.')) for i in df1[\"Value\"]] "
   ]
  },
  {
   "cell_type": "code",
   "execution_count": null,
   "id": "f8e34135-c54e-4bce-aa1b-8aa232b6d64a",
   "metadata": {},
   "outputs": [],
   "source": [
    "# fill null data with the mean of each group\n",
    "\n",
    "df1['Value']= df1.groupby('Country')['Value'].apply(lambda x: x.fillna(x.mean()))"
   ]
  },
  {
   "cell_type": "code",
   "execution_count": null,
   "id": "8ab67732-b3ce-440d-9605-7a83fe378d90",
   "metadata": {},
   "outputs": [],
   "source": [
    "#round up after comma\n",
    "df1['Value']=round(df1['Value'],2) "
   ]
  },
  {
   "cell_type": "code",
   "execution_count": null,
   "id": "4dcefffe-f263-47b3-9f66-b548834fca16",
   "metadata": {},
   "outputs": [],
   "source": [
    "df1 = df1.pivot_table('Value', ['Year'], 'Country').reset_index()"
   ]
  },
  {
   "cell_type": "code",
   "execution_count": null,
   "id": "79710654-fde7-4589-920b-ab962efa23b7",
   "metadata": {},
   "outputs": [],
   "source": [
    "# The descriptive statistic information for each country\n",
    "df1_describe=df1.describe()\n",
    "df1_describe.loc['var'] = df1.var().tolist() #variance\n",
    "df1_describe.loc['skew'] = df1.skew().tolist() #skewness\n",
    "df1_describe.loc['kurt'] = df1.kurtosis().tolist() #kurtosis"
   ]
  },
  {
   "cell_type": "code",
   "execution_count": null,
   "id": "3fb4eb57-4a1e-4d9c-9870-9ef6d6d5015e",
   "metadata": {},
   "outputs": [],
   "source": [
    "my_Oil_data_description=df1_describe.T"
   ]
  },
  {
   "cell_type": "code",
   "execution_count": null,
   "id": "8ea2e03c-a65e-42d8-8250-5e54721376c5",
   "metadata": {},
   "outputs": [],
   "source": [
    "my_Oil_data_description.to_csv(\"my_Oil_data_description.csv\") #save as csv file"
   ]
  },
  {
   "cell_type": "markdown",
   "id": "6c73f9bb-db81-4d00-babf-ceebe630300f",
   "metadata": {},
   "source": [
    "# Stationarity"
   ]
  },
  {
   "cell_type": "markdown",
   "id": "e68de053-864a-4c8d-92c5-81acf2d052dc",
   "metadata": {},
   "source": [
    "## Augmented Dickey-Fuller (ADF)"
   ]
  },
  {
   "cell_type": "code",
   "execution_count": null,
   "id": "c6ab3d1e-eb4a-4ea3-833d-3e1edcdf5f39",
   "metadata": {},
   "outputs": [],
   "source": [
    "#ADF test to check the stationarity of each country's data\n",
    "for name in country_name:\n",
    "    def adf_test(value):\n",
    "        result=adfuller(value)\n",
    "        labels = ['Test parameters', 'p-value','#Lags Used','Dataset observations']\n",
    "        for value,label in zip(result,labels):\n",
    "            print(label+' : '+str(value) )\n",
    "        if result[1] <= 0.05:\n",
    "            print(\"Dataset is stationary\")\n",
    "            print(name)\n",
    "            print(\"\\n\")\n",
    "        else:\n",
    "            print(\"Dataset is non-stationary \")\n",
    "            print(name)\n",
    "            print(\"\\n\")\n",
    "    adf_test(df1[name])"
   ]
  },
  {
   "cell_type": "markdown",
   "id": "15def06b-e35e-4549-ac4e-2c9be342b820",
   "metadata": {},
   "source": [
    "## Normality test:"
   ]
  },
  {
   "cell_type": "code",
   "execution_count": null,
   "id": "236ed9cb-cda7-47e5-8e56-f4754afd413a",
   "metadata": {},
   "outputs": [],
   "source": [
    "df1 = pd.melt(df1, id_vars=[\"Year\"], \n",
    "                  var_name=\"Country\", value_name=\"Value\")\n",
    "df1.head()"
   ]
  },
  {
   "cell_type": "code",
   "execution_count": null,
   "id": "73600326-0c30-4afe-b1f1-4a43bb2eb3a4",
   "metadata": {},
   "outputs": [],
   "source": [
    "my_normality_test=(df1.groupby('Country')[['Value']].apply(lambda x: pd.Series(shapiro(x), index=['Shapiro-Wilk','P'])).reset_index())\n",
    "my_normality_test.to_csv(\"my_normality_test_Oil_consumption.csv\") #save as csv file"
   ]
  },
  {
   "cell_type": "markdown",
   "id": "0df40239-5015-4638-81af-d3fa2c3d439d",
   "metadata": {},
   "source": [
    "## Plotting Autocorrelation Function (ACF) for seasonality inspection"
   ]
  },
  {
   "cell_type": "code",
   "execution_count": null,
   "id": "3b8106d9-ad99-4052-ae14-a3db36b71899",
   "metadata": {},
   "outputs": [],
   "source": [
    "#Autocorrelation visualization to check whether the data of each country is stationary\n",
    "fig, ax = plt.subplots(nrows=len(country_name), figsize=(12,len(country_name)*3.5))\n",
    "for i in country_name:\n",
    "    #print(i)\n",
    "    ind =list(country_name).index(i)\n",
    "    #print(ind)\n",
    "    filt = df1['Country']== i \n",
    "    #print(filt)\n",
    "    sm.graphics.tsa.plot_acf(df1.loc[filt]['Value'],ax=ax[ind])\n",
    "    ax[ind].set_title(i, size=10)\n",
    "    ax[ind].set_ylabel('Oil Consumption by Year', size=9)\n",
    "    ax[ind].set_xlabel('Year', size=9)\n",
    "    ax[ind].xaxis.set_tick_params(labelsize=9)\n",
    "    ax[ind].yaxis.set_tick_params(labelsize=9)\n",
    "plt.tight_layout() "
   ]
  },
  {
   "cell_type": "markdown",
   "id": "6653f825-c03a-4385-8502-f5f7df308039",
   "metadata": {},
   "source": [
    "## Implementing differencing"
   ]
  },
  {
   "cell_type": "code",
   "execution_count": null,
   "id": "82b17e22-0e4b-42f2-b700-cbb268eed503",
   "metadata": {},
   "outputs": [],
   "source": [
    "#1st order differencing segment of ARIMA makes the data stationary.\n",
    "\n",
    "df1['Value_diff'] = df1.groupby(['Country'])['Value'].diff().fillna(0)"
   ]
  },
  {
   "cell_type": "code",
   "execution_count": null,
   "id": "350dacb2-c9e2-4770-a8ca-414a15379bfe",
   "metadata": {},
   "outputs": [],
   "source": [
    "#ADF test for checking the stationarity of data\n",
    "for name in country_name:\n",
    "    X = df1[df1['Country'] == name]['Value_diff'].values\n",
    "    def adf_test(value):\n",
    "        result=adfuller(value)\n",
    "        labels = ['Test parameters', 'p-value','#Lags Used','Dataset observations']\n",
    "        for value,label in zip(result,labels):\n",
    "            print(label+' : '+str(value) )\n",
    "        if result[1] <= 0.05:\n",
    "            print(\"Dataset is stationary\")\n",
    "            print(name)\n",
    "            print(\"\\n\")\n",
    "        else:\n",
    "            print(\"Dataset is non-stationary \")\n",
    "            print(name)\n",
    "            print(\"\\n\")\n",
    "    adf_test(X)"
   ]
  },
  {
   "cell_type": "code",
   "execution_count": null,
   "id": "96982579-21f8-4638-947e-9bffd1d222c4",
   "metadata": {},
   "outputs": [],
   "source": [
    "#2nd order differencing segment of ARIMA makes the data stationary.\n",
    "df1['Value_diff_1'] = df1.groupby(['Country'])['Value_diff'].diff().fillna(0)"
   ]
  },
  {
   "cell_type": "code",
   "execution_count": null,
   "id": "1dea1a80-2239-4819-9714-451f6bfd3694",
   "metadata": {},
   "outputs": [],
   "source": [
    "#ADF test for checking the stationarity of data\n",
    "for name in country_name:\n",
    "    X = df1[df1['Country'] == name]['Value_diff_1'].values\n",
    "    def adf_test(value):\n",
    "        result=adfuller(value)\n",
    "        labels = ['Test parameters', 'p-value','#Lags Used','Dataset observations']\n",
    "        for value,label in zip(result,labels):\n",
    "            print(label+' : '+str(value) )\n",
    "        if result[1] <= 0.05:\n",
    "            print(\"Dataset is stationary\")\n",
    "            print(name)\n",
    "            print(\"\\n\")\n",
    "        else:\n",
    "            print(\"Dataset is non-stationary \")\n",
    "            print(name)\n",
    "            print(\"\\n\")\n",
    "    adf_test(X)"
   ]
  },
  {
   "cell_type": "markdown",
   "id": "b5de3225-6096-4ee6-b091-cd634bb0e2d2",
   "metadata": {},
   "source": [
    "## Plotting ACF"
   ]
  },
  {
   "cell_type": "code",
   "execution_count": null,
   "id": "b349798c-e300-4f60-a762-9036694bd5aa",
   "metadata": {},
   "outputs": [],
   "source": [
    "# Plotting ACF to get the best value of q.\n",
    "fig, ax = plt.subplots(nrows=len(country_name), figsize=(12,len(country_name)*3.5))\n",
    "for i in country_name:\n",
    "    #print(i)\n",
    "    ind =list(country_name).index(i)\n",
    "    #print(ind)\n",
    "    filt = df1['Country']== i \n",
    "    #print(filt)\n",
    "    sm.graphics.tsa.plot_acf(df1.loc[filt]['Value_diff_1'],ax=ax[ind], lags=45)\n",
    "    ax[ind].set_title(i, size=10)\n",
    "    ax[ind].set_ylabel('Oil Consumption by Year', size=9)\n",
    "    ax[ind].set_xlabel('Year', size=9)\n",
    "    ax[ind].xaxis.set_tick_params(labelsize=9)\n",
    "    ax[ind].yaxis.set_tick_params(labelsize=9)\n",
    "plt.tight_layout() "
   ]
  },
  {
   "cell_type": "markdown",
   "id": "e8a1eb1d-5734-4b34-b6db-963769ece646",
   "metadata": {},
   "source": [
    "## Plotting the new dataset"
   ]
  },
  {
   "cell_type": "code",
   "execution_count": null,
   "id": "843d4d41-124b-4856-a225-786d788affa2",
   "metadata": {},
   "outputs": [],
   "source": [
    "fig, ax = plt.subplots(nrows=len(country_name), figsize=(12,len(country_name)*3.5))\n",
    "for i in country_name:\n",
    "    #print(i)\n",
    "    ind =list(country_name).index(i)\n",
    "    #print(ind)\n",
    "    filt = df1['Country']== i \n",
    "    #print(filt)\n",
    "    ax[ind].plot(df1.loc[filt]['Year'],df1.loc[filt]['Value_diff_1'])\n",
    "    ax[ind].set_title(i, size=10)\n",
    "    ax[ind].set_ylabel('Oil Consumption by Year', size=9)\n",
    "    ax[ind].set_xlabel('Year', size=9)\n",
    "    ax[ind].xaxis.set_tick_params(labelsize=9)\n",
    "    ax[ind].yaxis.set_tick_params(labelsize=9)\n",
    "plt.tight_layout() "
   ]
  },
  {
   "cell_type": "markdown",
   "id": "7fbca896-84e8-4e6a-906f-01d86de31dbf",
   "metadata": {},
   "source": [
    "## Plotting PACF"
   ]
  },
  {
   "cell_type": "code",
   "execution_count": null,
   "id": "f4bc5c5b-deba-457f-b844-f48b8c250d62",
   "metadata": {},
   "outputs": [],
   "source": [
    "#Plotting PACF to get the best value of p\n",
    "fig, ax = plt.subplots(nrows=len(country_name), figsize=(12,len(country_name)*3.5))\n",
    "for i in country_name:\n",
    "    #print(i)\n",
    "    ind =list(country_name).index(i)\n",
    "    #print(ind)\n",
    "    filt = df1['Country']== i \n",
    "    #print(filt)\n",
    "    sm.graphics.tsa.plot_pacf(df1.loc[filt]['Value_diff_1'],ax=ax[ind],lags=22)\n",
    "    ax[ind].set_title(i, size=10)\n",
    "    ax[ind].set_ylabel('Oil Consumption by Year', size=9)\n",
    "    ax[ind].set_xlabel('Year', size=9)\n",
    "    ax[ind].xaxis.set_tick_params(labelsize=9)\n",
    "    ax[ind].yaxis.set_tick_params(labelsize=9)\n",
    "plt.tight_layout() "
   ]
  },
  {
   "cell_type": "markdown",
   "id": "3dfbc662-565f-4e8c-a28e-9f952c8200cd",
   "metadata": {},
   "source": [
    "## Training and Testing the ARIMA model - Accuracy Metrics for Time Series Forecast"
   ]
  },
  {
   "cell_type": "code",
   "execution_count": null,
   "id": "3bb64b36-926b-4913-9d86-75b516ff0e74",
   "metadata": {},
   "outputs": [],
   "source": [
    "# Fitting an ARIMA model and Interpret the result of an ARIMA model\n",
    "warnings.filterwarnings('ignore')\n",
    "dict_org = {}\n",
    "dict_pred = {}\n",
    "country_accuracy = {}\n",
    "for name in range(len(country_name)):\n",
    "    X = df1[df1['Country'] == country_name[name]]['Value'].values\n",
    "    size = int(len(X) * 0.70)\n",
    "    train, test = X[0:size], X[size:len(X)]\n",
    "    history =[x for x in train]\n",
    "    #print(train.shape,test.shape)\n",
    "    predictions = list()\n",
    "    for t in range(len(test)):\n",
    "        model = sm.tsa.arima.ARIMA(history, order = (2,2,1))\n",
    "        model_fit = model.fit()\n",
    "        output = model_fit.forecast()\n",
    "        yhat = output[0]\n",
    "        predictions.append(yhat)\n",
    "        obs = test[t]\n",
    "        history.append(obs)\n",
    "        print(Fore.BLUE +\"Predicted:%f, expected:%f\" %(yhat, obs))\n",
    "        \n",
    "        #the residuals to ensure there are no patterns\n",
    "        residuals = pd.DataFrame(model_fit.resid)\n",
    "    #Accuracy Metrics for Time Series Forecast \n",
    "    mse= mean_squared_error(test, predictions) #Mean Squared Error\n",
    "    mae=mean_absolute_error(test, predictions) #Mean Absolute Error\n",
    "    rmse=sqrt(mse) #RMSE\n",
    "    mape=np.mean(np.abs(predictions-test)/np.abs(test)) #Mean absolute percentage error\n",
    "    corr = np.corrcoef(predictions,test)[0,1] #Correlation between the Actual and the Forecast (corr)\n",
    "  \n",
    "    dict_org.update({country_name[name]: test})\n",
    "    dict_pred.update({country_name[name]: predictions})\n",
    "    print('Accuracy Metrics:')\n",
    "    print(\"Group: \", country_name[name], \"Test MSE:%f\"% mse)\n",
    "    print(\"Group: \", country_name[name], \"Test MAE:%f\"% mae)\n",
    "    print(\"Group: \", country_name[name], \"Test RMSE:%f\"% rmse)\n",
    "    print(\"Group: \", country_name[name], \"Test MAPE:%f\"% mape)\n",
    "    print(\"Group: \", country_name[name], \"Test CORR:%f\"% corr)\n",
    "    country_accuracy.update({country_name[name]: mse,country_name[name]: rmse,country_name[name]: mape,country_name[name]: mae,country_name[name]: corr})\n",
    "    #Plot test and predictions data\n",
    "    plt.plot(test)\n",
    "    plt.plot(predictions, color = 'orange')\n",
    "    plt.legend(['Actual','Predicted'])\n",
    "    plt.xlabel(country_name[name])\n",
    "    plt.show()\n",
    "    # Plot residual errors\n",
    "    residuals.plot(title='Residuals for the data of '+country_name[name])\n",
    "    plt.show()\n",
    "    residuals.plot(kind='kde', title='Density for the data of '+country_name[name])\n",
    "    plt.show()"
   ]
  },
  {
   "cell_type": "markdown",
   "id": "434d8e64-c90b-46b9-9f82-162cd0a9010c",
   "metadata": {},
   "source": [
    "## Auto ARIMA model- Model Checking"
   ]
  },
  {
   "cell_type": "code",
   "execution_count": null,
   "id": "86980eed-ce9e-4059-9f9a-48765568c5bf",
   "metadata": {},
   "outputs": [],
   "source": [
    "dict_original = {}\n",
    "dict_prediction = {}\n",
    "country_accuracy = {}\n",
    "for name in range(len(country_name)):\n",
    "    X = df1[df1['Country'] == country_name[name]]['Value'].values\n",
    "    size = int(len(X) * 0.70)\n",
    "    train, test = X[0:size], X[size:len(X)]\n",
    "    history =[x for x in train]\n",
    "    #print(train.shape,test.shape)\n",
    "    predictions = list()\n",
    "    for t in range(len(test)):\n",
    "        model =auto_arima(history, start_p=1, start_q=1,\n",
    "                      test='adf',       # use adftest to find optimal 'd'\n",
    "                      max_p=3, max_q=3, # maximum p and q\n",
    "                      m=1,              # frequency of series\n",
    "                      d=None,           # let model determine 'd'\n",
    "                      seasonal=False,   # No Seasonality\n",
    "                      start_P=0, \n",
    "                      D=0, \n",
    "                      trace=True,\n",
    "                      error_action='ignore',  \n",
    "                      suppress_warnings=True, \n",
    "                      stepwise=True) # this works \n",
    "        output = model.predict()\n",
    "        yhat = output[0]\n",
    "        predictions.append(yhat)\n",
    "        obs = test[t]\n",
    "        history.append(obs)\n",
    "        print(Fore.BLUE +\"Predicted:%f, expected:%f\" %(yhat, obs))\n",
    "        \n",
    "   #Model Checking    \n",
    "    mse= mean_squared_error(test, predictions) #Mean Squared Error\n",
    "    mae=mean_absolute_error(test, predictions) #Mean Absolute Error\n",
    "    rmse=sqrt(error) #RMSE\n",
    "    mape=np.mean(np.abs(predictions-test)/np.abs(test)) #Mean absolute percentage error\n",
    "    print('Test MSE: %.3f' % error)\n",
    "    dict_org.update({country_name[name]: test})\n",
    "    dict_pred.update({country_name[name]: predictions})\n",
    "    print(\"Group: \", country_name[name], \"Test MSE:%f\"% mse)\n",
    "    print(\"Group: \", country_name[name], \"Test MAE:%f\"% mae)\n",
    "    print(\"Group: \", country_name[name], \"Test RMSE:%f\"% rmse)\n",
    "    print(\"Group: \", country_name[name], \"Test MAPE:%f\"% mape)\n",
    "    country_accuracy.update({country_name[name]: mse,country_name[name]: rmse,country_name[name]: mape,country_name[name]: mae})\n",
    "\n",
    "    #Plotting \n",
    "    plt.plot(test)\n",
    "    plt.plot(predictions, color = 'orange')\n",
    "    plt.legend(['Actual','Predicted'])\n",
    "    plt.xlabel(country_name[name])\n",
    "    plt.show()"
   ]
  },
  {
   "cell_type": "code",
   "execution_count": null,
   "id": "6c9f8f47-12fb-496c-ba96-ec8f53f57650",
   "metadata": {},
   "outputs": [],
   "source": []
  }
 ],
 "metadata": {
  "kernelspec": {
   "display_name": "Python 3 (ipykernel)",
   "language": "python",
   "name": "python3"
  },
  "language_info": {
   "codemirror_mode": {
    "name": "ipython",
    "version": 3
   },
   "file_extension": ".py",
   "mimetype": "text/x-python",
   "name": "python",
   "nbconvert_exporter": "python",
   "pygments_lexer": "ipython3",
   "version": "3.9.7"
  }
 },
 "nbformat": 4,
 "nbformat_minor": 5
}
