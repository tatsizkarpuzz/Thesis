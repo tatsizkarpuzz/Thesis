{
 "cells": [
  {
   "cell_type": "markdown",
   "id": "2cf3b017-1a08-4214-99ad-da3f1b611987",
   "metadata": {},
   "source": [
    "## Import data "
   ]
  },
  {
   "cell_type": "code",
   "execution_count": null,
   "id": "580e911a-b9d4-426a-98ea-115816a421af",
   "metadata": {},
   "outputs": [],
   "source": [
    "import os\n",
    "import warnings\n",
    "warnings.filterwarnings('ignore')\n",
    "\n",
    "import pandas as pd\n",
    "import numpy as np\n",
    "import matplotlib.pyplot as plt\n",
    "\n",
    "from sklearn.metrics import mean_squared_error\n",
    "from math import sqrt\n",
    "from sklearn.metrics import mean_absolute_error\n",
    "\n",
    "import statsmodels.api as sm\n",
    "from statsmodels.tsa.stattools import adfuller\n",
    "from statsmodels.graphics.tsaplots import plot_acf,plot_pacf\n",
    "from statsmodels.graphics.tsaplots import plot_predict\n",
    "\n",
    "import seaborn as sns\n",
    "\n",
    "import colorama\n",
    "from colorama import Fore, Style\n",
    "\n",
    "! pip install pmdarima\n",
    "from pmdarima import auto_arima"
   ]
  },
  {
   "cell_type": "code",
   "execution_count": null,
   "id": "4eaa2633-cbc3-48ce-9092-84fa6e480020",
   "metadata": {},
   "outputs": [],
   "source": [
    "df = pd.read_csv('Coal Consumption at disaggregate level.csv',delimiter=';')\n",
    "\n",
    "df.head()"
   ]
  },
  {
   "cell_type": "markdown",
   "id": "8b263b86-3089-42bd-b371-c6496d10e0b4",
   "metadata": {},
   "source": [
    "## Data Preprocessing and Visualization "
   ]
  },
  {
   "cell_type": "code",
   "execution_count": null,
   "id": "9e55737b-77b5-4ffb-8e26-a527a01b3b2f",
   "metadata": {},
   "outputs": [],
   "source": [
    "#reorganize data columns\n",
    "df1 = pd.melt(df, id_vars=[\"Country\"], var_name=\"Year\", value_name=\"Value\")\n",
    "\n",
    "df1.shape"
   ]
  },
  {
   "cell_type": "code",
   "execution_count": null,
   "id": "3cccc8e1-d07b-4aa6-928d-93afe4b96f26",
   "metadata": {},
   "outputs": [],
   "source": [
    "df1.head()"
   ]
  },
  {
   "cell_type": "code",
   "execution_count": null,
   "id": "e0403281-9942-4a94-98c7-aa781a43ea19",
   "metadata": {},
   "outputs": [],
   "source": [
    "#Eliminate the countries which are not in European Union\n",
    "values = ['Iceland','Norway','Switzerland','Turkey','Ukraine', 'United Kingdom', 'Other Europe']\n",
    "df1 = df1[df1.Country.isin(values) == False]\n",
    "df1"
   ]
  },
  {
   "cell_type": "code",
   "execution_count": null,
   "id": "93b3264d-0116-49f6-8a84-62bb99410ea3",
   "metadata": {},
   "outputs": [],
   "source": [
    "#convert datatype from string to float\n",
    "df1[\"Value\"] =[float(str(i).replace(',','.')) for i in df1[\"Value\"]] "
   ]
  },
  {
   "cell_type": "code",
   "execution_count": null,
   "id": "dee99c69-e4c9-4de3-876c-673bc8597bfc",
   "metadata": {},
   "outputs": [],
   "source": [
    "df1.dtypes #check the data types"
   ]
  },
  {
   "cell_type": "code",
   "execution_count": null,
   "id": "8d8e21e8-9ca9-4e5e-b17a-c392cd1e9ae5",
   "metadata": {},
   "outputs": [],
   "source": [
    "#See whether the dataset has any null value\n",
    "df1.isnull().sum()"
   ]
  },
  {
   "cell_type": "code",
   "execution_count": null,
   "id": "da7adbfe-afe9-4760-bf0e-8f570ed01219",
   "metadata": {},
   "outputs": [],
   "source": [
    "#pivot feature to see the visualization\n",
    "df1 = df1.pivot_table('Value', ['Year'], 'Country').reset_index()"
   ]
  },
  {
   "cell_type": "code",
   "execution_count": null,
   "id": "e6270802-4f6b-43d4-a45f-2447d1280da4",
   "metadata": {},
   "outputs": [],
   "source": [
    "#Covert Year to date column\n",
    "df1['Year'] = pd.to_datetime(df1['Year'])"
   ]
  },
  {
   "cell_type": "code",
   "execution_count": null,
   "id": "d9f42d51-3acd-4f4b-8cc3-25f8ba96e7f6",
   "metadata": {},
   "outputs": [],
   "source": [
    "#create a country list\n",
    "country_name=np.array(df1.columns.unique())\n",
    "country_name = np.delete(country_name, 0)\n",
    "print(country_name)"
   ]
  },
  {
   "cell_type": "code",
   "execution_count": null,
   "id": "84d9e820-a595-4c91-97e5-9f9b7ade261c",
   "metadata": {},
   "outputs": [],
   "source": [
    "#the info of dataset\n",
    "df1.info()"
   ]
  },
  {
   "cell_type": "code",
   "execution_count": null,
   "id": "25032641-c9f9-48af-8468-218ca8333725",
   "metadata": {},
   "outputs": [],
   "source": [
    "# To compelte the data, as naive method, we will use ffill\n",
    "f, ax = plt.subplots(nrows=len(country_name), ncols=1,  figsize=(12,len(country_name)*3.5))\n",
    "for i, column in enumerate(df1.drop('Year', axis=1).columns):\n",
    "    sns.lineplot(x=df1['Year'], y=df1[column].fillna(method='ffill'), ax=ax[i], color='dodgerblue')\n",
    "    ax[i].set_title('{}'.format(column), fontsize=14)\n",
    "    ax[i].set_ylabel(ylabel='Coal Consumption by Year', fontsize=8)\n",
    "    ax[i].set_xlabel('Year', size=10)\n",
    "    ax[i].xaxis.set_tick_params(labelsize=9)\n",
    "    ax[i].yaxis.set_tick_params(labelsize=9)\n",
    "plt.tight_layout() "
   ]
  },
  {
   "cell_type": "markdown",
   "id": "f5eb18f5-2dbc-4440-95a8-aa20d437c269",
   "metadata": {},
   "source": [
    "## Handle Missings and Descriptive statistics"
   ]
  },
  {
   "cell_type": "code",
   "execution_count": null,
   "id": "20f7e416-11b7-4a70-826d-42206ab6cdda",
   "metadata": {},
   "outputs": [],
   "source": [
    "df1 = pd.melt(df1, id_vars=[\"Year\"], var_name=\"Country\", value_name=\"Value\")\n",
    "\n",
    "df1.shape"
   ]
  },
  {
   "cell_type": "code",
   "execution_count": null,
   "id": "76d4ad8e-1f05-4bd9-832b-a64d675f574a",
   "metadata": {},
   "outputs": [],
   "source": [
    "df1[\"Value\"] =[float(str(i).replace(',','.')) for i in df1[\"Value\"]] "
   ]
  },
  {
   "cell_type": "code",
   "execution_count": null,
   "id": "21fa45d3-0e60-455f-8341-81be70d5c4e0",
   "metadata": {},
   "outputs": [],
   "source": [
    "# fill null data with the mean of each group\n",
    "df1['Value']= df1.groupby('Country')['Value'].apply(lambda x: x.fillna(x.mean()))"
   ]
  },
  {
   "cell_type": "code",
   "execution_count": null,
   "id": "229b10ba-7308-4c42-9499-a5147535521e",
   "metadata": {},
   "outputs": [],
   "source": [
    "#round up after comma\n",
    "df1['Value']=round(df1['Value'],2) "
   ]
  },
  {
   "cell_type": "code",
   "execution_count": null,
   "id": "08c8915f-9dfc-428b-a091-a1f50384888e",
   "metadata": {},
   "outputs": [],
   "source": [
    "df1 = df1.pivot_table('Value', ['Year'], 'Country').reset_index()"
   ]
  },
  {
   "cell_type": "code",
   "execution_count": null,
   "id": "34bfebcc-62c2-40e2-b997-6460b1290c57",
   "metadata": {},
   "outputs": [],
   "source": [
    "# The descriptive statistic information for each country\n",
    "df1_describe=df1.describe()\n",
    "df1_describe.loc['var'] = df1.var().tolist() #variance\n",
    "df1_describe.loc['skew'] = df1.skew().tolist() #skewness\n",
    "df1_describe.loc['kurt'] = df1.kurtosis().tolist() #kurtosis"
   ]
  },
  {
   "cell_type": "code",
   "execution_count": null,
   "id": "14cd0d26-a2e3-44b6-b002-cb1b74b961c2",
   "metadata": {},
   "outputs": [],
   "source": [
    "my_coal_data_description=df1_describe.T\n",
    "my_coal_data_description.to_csv(\"my_coal_data_description.csv\") #save as csv file"
   ]
  },
  {
   "cell_type": "markdown",
   "id": "7cc448f1-c5af-46e1-90c8-bafd9c890cd6",
   "metadata": {},
   "source": [
    "# Stationarity"
   ]
  },
  {
   "cell_type": "markdown",
   "id": "15e7c4c3-a148-4896-829f-057a082aad23",
   "metadata": {},
   "source": [
    "## Augmented Dickey-Fuller (ADF)"
   ]
  },
  {
   "cell_type": "code",
   "execution_count": null,
   "id": "3698f111-4070-4e00-8cf3-6fe7d7ea0972",
   "metadata": {},
   "outputs": [],
   "source": [
    "#ADF test to check the stationarity of each country's data\n",
    "for name in country_name:\n",
    "    def adf_test(value):\n",
    "        result=adfuller(value)\n",
    "        labels = ['Test parameters', 'p-value','#Lags Used','Dataset observations']\n",
    "        for value,label in zip(result,labels):\n",
    "            print(label+' : '+str(value) )\n",
    "        if result[1] <= 0.05:\n",
    "            print(\"Dataset is stationary\")\n",
    "            print(name)\n",
    "            print(\"\\n\")\n",
    "        else:\n",
    "            print(\"Dataset is non-stationary \")\n",
    "            print(name)\n",
    "            print(\"\\n\")\n",
    "    adf_test(df1[name])"
   ]
  },
  {
   "cell_type": "markdown",
   "id": "21acce62-0bbc-4859-a4b1-4d7d02bd29b3",
   "metadata": {},
   "source": [
    "## Plotting Autocorrelation Function (ACF) for seasonality inspection "
   ]
  },
  {
   "cell_type": "code",
   "execution_count": null,
   "id": "b25475a4-888f-4b50-9853-ad454353e6a1",
   "metadata": {},
   "outputs": [],
   "source": [
    "df1 = pd.melt(df1, id_vars=[\"Year\"], \n",
    "                  var_name=\"Country\", value_name=\"Value\")\n",
    "df1.head()"
   ]
  },
  {
   "cell_type": "code",
   "execution_count": null,
   "id": "3ba12e86-ba68-4d96-b8e0-9608b19d5fdf",
   "metadata": {},
   "outputs": [],
   "source": [
    "#Autocorrelation visualization to check whether the data of each country is stationary\n",
    "fig, ax = plt.subplots(nrows=len(country_name), figsize=(12,len(country_name)*3.5))\n",
    "for i in country_name:\n",
    "    #print(i)\n",
    "    ind =list(country_name).index(i)\n",
    "    #print(ind)\n",
    "    filt = df1['Country']== i \n",
    "    #print(filt)\n",
    "    sm.graphics.tsa.plot_acf(df1.loc[filt]['Value'],ax=ax[ind])\n",
    "    ax[ind].set_title(i, size=10)\n",
    "    ax[ind].set_ylabel('Coal Consumption by Year', size=9)\n",
    "    ax[ind].set_xlabel('Year', size=9)\n",
    "    ax[ind].xaxis.set_tick_params(labelsize=9)\n",
    "    ax[ind].yaxis.set_tick_params(labelsize=9)\n",
    "plt.tight_layout() "
   ]
  },
  {
   "cell_type": "markdown",
   "id": "4a2184e2-5530-47ed-a9f7-119dc603c94a",
   "metadata": {},
   "source": [
    "## Implementing Differencing"
   ]
  },
  {
   "cell_type": "code",
   "execution_count": null,
   "id": "469be4a8-d2c5-4d1f-966d-6a9b6e66f913",
   "metadata": {},
   "outputs": [],
   "source": [
    "#1st order differencing segment of ARIMA makes the data stationary.\n",
    "\n",
    "df1['Value_diff'] = df1.groupby(['Country'])['Value'].diff().fillna(0)"
   ]
  },
  {
   "cell_type": "code",
   "execution_count": null,
   "id": "2daa880b-028e-4639-b936-2e413da0ca92",
   "metadata": {},
   "outputs": [],
   "source": [
    "#ADF test for checking the stationarity of data\n",
    "for name in country_name:\n",
    "    X = df1[df1['Country'] == name]['Value_diff'].values\n",
    "    def adf_test(value):\n",
    "        result=adfuller(value)\n",
    "        labels = ['Test parameters', 'p-value','#Lags Used','Dataset observations']\n",
    "        for value,label in zip(result,labels):\n",
    "            print(label+' : '+str(value) )\n",
    "        if result[1] <= 0.05:\n",
    "            print(\"Dataset is stationary\")\n",
    "            print(name)\n",
    "            print(\"\\n\")\n",
    "        else:\n",
    "            print(\"Dataset is non-stationary \")\n",
    "            print(name)\n",
    "            print(\"\\n\")\n",
    "    adf_test(X)"
   ]
  },
  {
   "cell_type": "markdown",
   "id": "63c31a07-8010-4a33-8607-f9e948c1ca99",
   "metadata": {},
   "source": [
    "## Plotting ACF"
   ]
  },
  {
   "cell_type": "code",
   "execution_count": null,
   "id": "e0fc8ba0-8d96-4e64-8824-54cb34274358",
   "metadata": {},
   "outputs": [],
   "source": [
    "#Autocorrelation of Data value to see clearly whether it is stationary\n",
    "fig, ax = plt.subplots(nrows=len(country_name), figsize=(12,len(country_name)*3.5))\n",
    "for i in country_name:\n",
    "    #print(i)\n",
    "    ind =list(country_name).index(i)\n",
    "    #print(ind)\n",
    "    filt = df1['Country']== i \n",
    "    #print(filt)\n",
    "    sm.graphics.tsa.plot_acf(df1.loc[filt]['Value_diff'],ax=ax[ind], lags=45)\n",
    "    ax[ind].set_title(i, size=10)\n",
    "    ax[ind].set_ylabel('Coal Consumption by Year', size=9)\n",
    "    ax[ind].set_xlabel('Year', size=9)\n",
    "    ax[ind].xaxis.set_tick_params(labelsize=9)\n",
    "    ax[ind].yaxis.set_tick_params(labelsize=9)\n",
    "plt.tight_layout() "
   ]
  },
  {
   "cell_type": "markdown",
   "id": "fda872d9-5a41-49c2-b1c0-dc7517dfb4d7",
   "metadata": {},
   "source": [
    "## Plotting the new dataset"
   ]
  },
  {
   "cell_type": "code",
   "execution_count": null,
   "id": "fd527dd4-56cf-4d63-a893-289434025caf",
   "metadata": {},
   "outputs": [],
   "source": [
    "fig, ax = plt.subplots(nrows=len(country_name), figsize=(12,len(country_name)*3.5))\n",
    "for i in country_name:\n",
    "    #print(i)\n",
    "    ind =list(country_name).index(i)\n",
    "    #print(ind)\n",
    "    filt = df1['Country']== i \n",
    "    #print(filt)\n",
    "    ax[ind].plot(df1.loc[filt]['Year'],df1.loc[filt]['Value_diff'])\n",
    "    ax[ind].set_title(i, size=10)\n",
    "    ax[ind].set_ylabel('Coal Consumption by Year', size=9)\n",
    "    ax[ind].set_xlabel('Year', size=9)\n",
    "    ax[ind].xaxis.set_tick_params(labelsize=9)\n",
    "    ax[ind].yaxis.set_tick_params(labelsize=9)\n",
    "plt.tight_layout() "
   ]
  },
  {
   "cell_type": "markdown",
   "id": "dd2a2d18-8f80-4f58-a1d0-86400d9cd57b",
   "metadata": {},
   "source": [
    "## Plotting PACF"
   ]
  },
  {
   "cell_type": "code",
   "execution_count": null,
   "id": "091100b3-84ee-4b29-b874-73cf224700b0",
   "metadata": {},
   "outputs": [],
   "source": [
    "\n",
    "fig, ax = plt.subplots(nrows=len(country_name), figsize=(12,len(country_name)*3.5))\n",
    "for i in country_name:\n",
    "    #print(i)\n",
    "    ind =list(country_name).index(i)\n",
    "    #print(ind)\n",
    "    filt = df1['Country']== i \n",
    "    #print(filt)\n",
    "    sm.graphics.tsa.plot_pacf(df1.loc[filt]['Value_diff'],ax=ax[ind],lags=22)\n",
    "    ax[ind].set_title(i, size=10)\n",
    "    ax[ind].set_ylabel('Coal Consumption by Year', size=9)\n",
    "    ax[ind].set_xlabel('Year', size=9)\n",
    "    ax[ind].xaxis.set_tick_params(labelsize=9)\n",
    "    ax[ind].yaxis.set_tick_params(labelsize=9)\n",
    "plt.tight_layout() "
   ]
  },
  {
   "cell_type": "markdown",
   "id": "01b2421e-55f2-45d5-884a-994ce3123c17",
   "metadata": {},
   "source": [
    "## Training and Testing the ARIMA model - Accuracy Metrics for Time Series Forecast"
   ]
  },
  {
   "cell_type": "code",
   "execution_count": null,
   "id": "eb675e69-1d09-4749-b81c-90f1e833d099",
   "metadata": {},
   "outputs": [],
   "source": [
    "# Fitting an ARIMA model and Interpret the result of an ARIMA model\n",
    "warnings.filterwarnings('ignore')\n",
    "dict_org = {}\n",
    "dict_pred = {}\n",
    "country_accuracy = {}\n",
    "for name in range(len(country_name)):\n",
    "    X = df1[df1['Country'] == country_name[name]]['Value'].values\n",
    "    size = int(len(X) * 0.70)\n",
    "    train, test = X[0:size], X[size:len(X)]\n",
    "    history =[x for x in train]\n",
    "    #print(train.shape,test.shape)\n",
    "    predictions = list()\n",
    "    for t in range(len(test)):\n",
    "        model = sm.tsa.arima.ARIMA(history, order = (2,1,1))\n",
    "        model_fit = model.fit()\n",
    "        output = model_fit.forecast()\n",
    "        yhat = output[0]\n",
    "        predictions.append(yhat)\n",
    "        obs = test[t]\n",
    "        history.append(obs)\n",
    "        print(Fore.BLUE +\"Predicted:%f, expected:%f\" %(yhat, obs))\n",
    "        \n",
    "        #the residuals to ensure there are no patterns\n",
    "        residuals = pd.DataFrame(model_fit.resid)\n",
    "    #Accuracy Metrics for Time Series Forecast \n",
    "    mse= mean_squared_error(test, predictions) #Mean Squared Error\n",
    "    mae=mean_absolute_error(test, predictions) #Mean Absolute Error\n",
    "    rmse=sqrt(mse) #RMSE\n",
    "    mape=np.mean(np.abs(predictions-test)/np.abs(test)) #Mean absolute percentage error\n",
    "    corr = np.corrcoef(predictions,test)[0,1] #Correlation between the Actual and the Forecast (corr)\n",
    "  \n",
    "    dict_org.update({country_name[name]: test})\n",
    "    dict_pred.update({country_name[name]: predictions})\n",
    "    print('Accuracy Metrics:')\n",
    "    print(\"Group: \", country_name[name], \"Test MSE:%f\"% mse)\n",
    "    print(\"Group: \", country_name[name], \"Test MAE:%f\"% mae)\n",
    "    print(\"Group: \", country_name[name], \"Test RMSE:%f\"% rmse)\n",
    "    print(\"Group: \", country_name[name], \"Test MAPE:%f\"% mape)\n",
    "    print(\"Group: \", country_name[name], \"Test CORR:%f\"% corr)\n",
    "    country_accuracy.update({country_name[name]: mse,country_name[name]: rmse,country_name[name]: mape,country_name[name]: mae,country_name[name]: corr})\n",
    "    #Plot test and predictions data\n",
    "    plt.plot(test)\n",
    "    plt.plot(predictions, color = 'orange')\n",
    "    plt.legend(['Actual','Predicted'])\n",
    "    plt.xlabel(country_name[name])\n",
    "    plt.show()\n",
    "    # Plot residual errors\n",
    "    residuals.plot(title='Residuals for the data of '+country_name[name])\n",
    "    plt.show()\n",
    "    residuals.plot(kind='kde', title='Density for the data of '+country_name[name])\n",
    "    plt.show()"
   ]
  },
  {
   "cell_type": "markdown",
   "id": "8a53c5d0-5c7b-4f65-82da-c0a675bd1aa7",
   "metadata": {},
   "source": [
    "## Auto ARIMA Model-Model Checking"
   ]
  },
  {
   "cell_type": "code",
   "execution_count": null,
   "id": "6d6cab08-8a36-4085-a7b2-35f860037116",
   "metadata": {},
   "outputs": [],
   "source": [
    "dict_original = {}\n",
    "dict_prediction = {}\n",
    "country_accuracy = {}\n",
    "for name in range(len(country_name)):\n",
    "    X = df1[df1['Country'] == country_name[name]]['Value'].values\n",
    "    size = int(len(X) * 0.70)\n",
    "    train, test = X[0:size], X[size:len(X)]\n",
    "    history =[x for x in train]\n",
    "    #print(train.shape,test.shape)\n",
    "    predictions = list()\n",
    "    for t in range(len(test)):\n",
    "        model =auto_arima(history, start_p=1, start_q=1,\n",
    "                      test='adf',       # use adftest to find optimal 'd'\n",
    "                      max_p=3, max_q=3, # maximum p and q\n",
    "                      m=1,              # frequency of series\n",
    "                      d=None,           # let model determine 'd'\n",
    "                      seasonal=False,   # No Seasonality\n",
    "                      start_P=0, \n",
    "                      D=0, \n",
    "                      trace=True,\n",
    "                      error_action='ignore',  \n",
    "                      suppress_warnings=True, \n",
    "                      stepwise=True) # this works \n",
    "        output = model.predict()\n",
    "        yhat = output[0]\n",
    "        predictions.append(yhat)\n",
    "        obs = test[t]\n",
    "        history.append(obs)\n",
    "        print(Fore.BLUE +\"Predicted:%f, expected:%f\" %(yhat, obs))\n",
    "        \n",
    "        \n",
    "    mse= mean_squared_error(test, predictions) #Mean Squared Error\n",
    "    mae=mean_absolute_error(test, predictions) #Mean Absolute Error\n",
    "    rmse=sqrt(mse) #RMSE\n",
    "    mape=np.mean(np.abs(predictions-test)/np.abs(test)) #Mean absolute percentage error\n",
    "    print('Test MSE: %.3f' % mse)\n",
    "    dict_org.update({country_name[name]: test})\n",
    "    dict_pred.update({country_name[name]: predictions})\n",
    "    print(\"Group: \", country_name[name], \"Test MSE:%f\"% mse)\n",
    "    print(\"Group: \", country_name[name], \"Test MAE:%f\"% mae)\n",
    "    print(\"Group: \", country_name[name], \"Test RMSE:%f\"% rmse)\n",
    "    print(\"Group: \", country_name[name], \"Test MAPE:%f\"% mape)\n",
    "    country_accuracy.update({country_name[name]: mse,country_name[name]: rmse,country_name[name]: mape,country_name[name]: mae})\n",
    "    \n",
    "    #Plotting\n",
    "    plt.plot(test)\n",
    "    plt.plot(predictions, color = 'orange')\n",
    "    plt.legend(['Actual','Predicted'])\n",
    "    plt.xlabel(country_name[name])\n",
    "    plt.show()"
   ]
  },
  {
   "cell_type": "code",
   "execution_count": null,
   "id": "d327574a-bac2-47dc-b654-d810549a40c9",
   "metadata": {},
   "outputs": [],
   "source": []
  }
 ],
 "metadata": {
  "kernelspec": {
   "display_name": "Python 3 (ipykernel)",
   "language": "python",
   "name": "python3"
  },
  "language_info": {
   "codemirror_mode": {
    "name": "ipython",
    "version": 3
   },
   "file_extension": ".py",
   "mimetype": "text/x-python",
   "name": "python",
   "nbconvert_exporter": "python",
   "pygments_lexer": "ipython3",
   "version": "3.9.7"
  }
 },
 "nbformat": 4,
 "nbformat_minor": 5
}
