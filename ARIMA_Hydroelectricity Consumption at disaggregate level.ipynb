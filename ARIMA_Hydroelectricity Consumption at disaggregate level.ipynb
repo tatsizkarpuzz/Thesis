{
 "cells": [
  {
   "cell_type": "markdown",
   "id": "858c34fd-87cc-48af-8868-6b37cb299184",
   "metadata": {},
   "source": [
    "## Import data "
   ]
  },
  {
   "cell_type": "code",
   "execution_count": null,
   "id": "b665632b-55f8-48ed-8bdc-92a3dd17d7ea",
   "metadata": {},
   "outputs": [],
   "source": [
    "import os\n",
    "import warnings\n",
    "warnings.filterwarnings('ignore')\n",
    "\n",
    "import pandas as pd\n",
    "import numpy as np\n",
    "import matplotlib.pyplot as plt\n",
    "\n",
    "from sklearn.metrics import mean_squared_error\n",
    "from math import sqrt\n",
    "from sklearn.metrics import mean_absolute_error\n",
    "\n",
    "import statsmodels.api as sm\n",
    "from statsmodels.tsa.stattools import adfuller\n",
    "from statsmodels.graphics.tsaplots import plot_acf,plot_pacf\n",
    "from statsmodels.graphics.tsaplots import plot_predict\n",
    "\n",
    "import seaborn as sns\n",
    "\n",
    "import colorama\n",
    "from colorama import Fore, Style\n",
    "\n",
    "! pip install pmdarima\n",
    "from pmdarima import auto_arima"
   ]
  },
  {
   "cell_type": "code",
   "execution_count": null,
   "id": "82fc2b8f-f5f4-4e98-a448-b6553e7c69ad",
   "metadata": {},
   "outputs": [],
   "source": [
    "df = pd.read_csv('Hydroelectricity Consumption at disaggregate level.csv',delimiter=';')\n",
    "\n",
    "df.head()"
   ]
  },
  {
   "cell_type": "markdown",
   "id": "93e46fcf-2ea5-4a66-bcf4-1439629ddd84",
   "metadata": {},
   "source": [
    "## Data Preprocessing and Visualization "
   ]
  },
  {
   "cell_type": "code",
   "execution_count": null,
   "id": "afea80b4-a0c1-4496-befd-1e776a7ec913",
   "metadata": {},
   "outputs": [],
   "source": [
    "#reorganize data columns\n",
    "df1 = pd.melt(df, id_vars=[\"Country\"], var_name=\"Year\", value_name=\"Value\")\n",
    "\n",
    "df1.shape"
   ]
  },
  {
   "cell_type": "code",
   "execution_count": null,
   "id": "13685250-fb83-467a-b094-5e8e3a6d45ca",
   "metadata": {},
   "outputs": [],
   "source": [
    "df1.head()"
   ]
  },
  {
   "cell_type": "code",
   "execution_count": null,
   "id": "9e9864d8-2b21-4cf4-a5c9-2903c9b7880a",
   "metadata": {},
   "outputs": [],
   "source": [
    "#Eliminate the countries which are not in European Union\n",
    "values = ['Iceland','Norway','Switzerland','Turkey','Ukraine', 'United Kingdom', 'Other Europe']\n",
    "df1 = df1[df1.Country.isin(values) == False]\n",
    "df1"
   ]
  },
  {
   "cell_type": "code",
   "execution_count": null,
   "id": "34e35285-57b5-483e-b890-0c85fafeb037",
   "metadata": {},
   "outputs": [],
   "source": [
    "#convert datatype from string to float\n",
    "df1[\"Value\"] =[float(str(i).replace(',','.')) for i in df1[\"Value\"]] "
   ]
  },
  {
   "cell_type": "code",
   "execution_count": null,
   "id": "01ca8f94-6ce3-469a-8e00-5467fc98b9c3",
   "metadata": {},
   "outputs": [],
   "source": [
    "df1.dtypes #check the data types"
   ]
  },
  {
   "cell_type": "code",
   "execution_count": null,
   "id": "614de8b7-d803-42e5-86bb-d59a1602eb9a",
   "metadata": {},
   "outputs": [],
   "source": [
    "#See whether the dataset has any null value\n",
    "df1.isnull().sum()"
   ]
  },
  {
   "cell_type": "code",
   "execution_count": null,
   "id": "690c5166-8d91-429d-9780-d9bb234d2687",
   "metadata": {},
   "outputs": [],
   "source": [
    "#pivot feature to see the visualization\n",
    "df1 = df1.pivot_table('Value', ['Year'], 'Country').reset_index()"
   ]
  },
  {
   "cell_type": "code",
   "execution_count": null,
   "id": "91bce07c-b80e-4d15-9d41-27f43e51f831",
   "metadata": {},
   "outputs": [],
   "source": [
    "#Covert Year to date column\n",
    "df1['Year'] = pd.to_datetime(df1['Year'])"
   ]
  },
  {
   "cell_type": "code",
   "execution_count": null,
   "id": "76f644df-e9f4-4fba-a895-0f7d34ede0bc",
   "metadata": {},
   "outputs": [],
   "source": [
    "#create a country list\n",
    "country_name=np.array(df1.columns.unique())\n",
    "country_name = np.delete(country_name, 0)\n",
    "print(country_name)"
   ]
  },
  {
   "cell_type": "code",
   "execution_count": null,
   "id": "380c5d6a-a1df-4774-8b70-3f9e6b09ac60",
   "metadata": {},
   "outputs": [],
   "source": [
    "#the info of dataset\n",
    "df1.info()"
   ]
  },
  {
   "cell_type": "code",
   "execution_count": null,
   "id": "7658d367-ca94-444b-a6c1-476a5437af22",
   "metadata": {},
   "outputs": [],
   "source": [
    "# To compelte the data, as naive method, we will use ffill\n",
    "f, ax = plt.subplots(nrows=len(country_name), ncols=1,  figsize=(12,len(country_name)*3.5))\n",
    "for i, column in enumerate(df1.drop('Year', axis=1).columns):\n",
    "    sns.lineplot(x=df1['Year'], y=df1[column].fillna(method='ffill'), ax=ax[i], color='dodgerblue')\n",
    "    ax[i].set_title('{}'.format(column), fontsize=14)\n",
    "    ax[i].set_ylabel(ylabel='Hydroelectricity Consumption by Year', fontsize=8)\n",
    "    ax[i].set_xlabel('Year', size=10)\n",
    "    ax[i].xaxis.set_tick_params(labelsize=9)\n",
    "    ax[i].yaxis.set_tick_params(labelsize=9)\n",
    "plt.tight_layout() "
   ]
  },
  {
   "cell_type": "markdown",
   "id": "66501ce7-1f5b-428b-b2cd-4609fef3c8c4",
   "metadata": {},
   "source": [
    "## Handle Missings and Descriptive statistics"
   ]
  },
  {
   "cell_type": "code",
   "execution_count": null,
   "id": "dfa7fad2-df53-4111-aeb0-55d63d7bfd39",
   "metadata": {},
   "outputs": [],
   "source": [
    "df1 = pd.melt(df1, id_vars=[\"Year\"], var_name=\"Country\", value_name=\"Value\")\n",
    "\n",
    "df1.shape"
   ]
  },
  {
   "cell_type": "code",
   "execution_count": null,
   "id": "7217beee-c876-44f2-9a0e-d56ea6e206f6",
   "metadata": {},
   "outputs": [],
   "source": [
    "df1[\"Value\"] =[float(str(i).replace(',','.')) for i in df1[\"Value\"]] "
   ]
  },
  {
   "cell_type": "code",
   "execution_count": null,
   "id": "c5c8af48-e69d-4248-8357-76240d3e92d2",
   "metadata": {},
   "outputs": [],
   "source": [
    "# fill null data with the mean of each group\n",
    "\n",
    "df1['Value']= df1.groupby('Country')['Value'].apply(lambda x: x.fillna(x.mean()))"
   ]
  },
  {
   "cell_type": "code",
   "execution_count": null,
   "id": "347d943a-2ff5-4dc5-872c-0274d5d0a183",
   "metadata": {},
   "outputs": [],
   "source": [
    "#round up after comma\n",
    "df1['Value']=round(df1['Value'],2) "
   ]
  },
  {
   "cell_type": "code",
   "execution_count": null,
   "id": "5f6c6584-86e8-47ad-a9a6-cf4dd60c025d",
   "metadata": {},
   "outputs": [],
   "source": [
    "df1 = df1.pivot_table('Value', ['Year'], 'Country').reset_index()"
   ]
  },
  {
   "cell_type": "code",
   "execution_count": null,
   "id": "4e72c18c-2ec5-4758-8813-81684987332c",
   "metadata": {},
   "outputs": [],
   "source": [
    "# The descriptive statistic information for each country\n",
    "df1_describe=df1.describe()\n",
    "df1_describe.loc['var'] = df1.var().tolist() #variance\n",
    "df1_describe.loc['skew'] = df1.skew().tolist() #skewness\n",
    "df1_describe.loc['kurt'] = df1.kurtosis().tolist() #kurtosis\n"
   ]
  },
  {
   "cell_type": "code",
   "execution_count": null,
   "id": "d3030339-ab86-4ca0-9748-43154074d6c5",
   "metadata": {},
   "outputs": [],
   "source": [
    "my_hydroelectricity_data_description=df1_describe.T\n",
    "my_hydroelectricity_data_description.to_csv(\"my_hydroelectricity_data_description.csv\") #save as csv file"
   ]
  },
  {
   "cell_type": "markdown",
   "id": "a0f4fe9c-50cd-48e9-b24f-ad383f2046fc",
   "metadata": {},
   "source": [
    "# Stationarity"
   ]
  },
  {
   "cell_type": "markdown",
   "id": "507e5f61-4f91-466b-9416-3564cb6ea402",
   "metadata": {},
   "source": [
    "## Augmented Dickey-Fuller (ADF)"
   ]
  },
  {
   "cell_type": "code",
   "execution_count": null,
   "id": "32301bf2-ae1e-4d2c-ba7a-41ef30700268",
   "metadata": {},
   "outputs": [],
   "source": [
    "#ADF test to check the stationarity of each country's data\n",
    "for name in country_name:\n",
    "    def adf_test(value):\n",
    "        result=adfuller(value)\n",
    "        labels = ['Test parameters', 'p-value','#Lags Used','Dataset observations']\n",
    "        for value,label in zip(result,labels):\n",
    "            print(label+' : '+str(value) )\n",
    "        if result[1] <= 0.05:\n",
    "            print(\"Dataset is stationary\")\n",
    "            print(name)\n",
    "            print(\"\\n\")\n",
    "        else:\n",
    "            print(\"Dataset is non-stationary \")\n",
    "            print(name)\n",
    "            print(\"\\n\")\n",
    "    adf_test(df1[name])"
   ]
  },
  {
   "cell_type": "markdown",
   "id": "4ec54460-0947-4a8d-b0b8-b79c4834ea26",
   "metadata": {},
   "source": [
    "## Plotting Autocorrelation Function (ACF) for seasonality inspection "
   ]
  },
  {
   "cell_type": "code",
   "execution_count": null,
   "id": "4100060e-022b-4724-87c7-1ed84c28cb1f",
   "metadata": {},
   "outputs": [],
   "source": [
    "df1 = pd.melt(df1, id_vars=[\"Year\"], \n",
    "                  var_name=\"Country\", value_name=\"Value\")\n",
    "df1.head()"
   ]
  },
  {
   "cell_type": "code",
   "execution_count": null,
   "id": "cfb54c0d-1be1-4b41-bc23-e0f24ca5ca67",
   "metadata": {},
   "outputs": [],
   "source": [
    "#Autocorrelation visualization to check whether the data of each country is stationary\n",
    "fig, ax = plt.subplots(nrows=len(country_name), figsize=(12,len(country_name)*3.5))\n",
    "for i in country_name:\n",
    "    #print(i)\n",
    "    ind =list(country_name).index(i)\n",
    "    #print(ind)\n",
    "    filt = df1['Country']== i \n",
    "    #print(filt)\n",
    "    sm.graphics.tsa.plot_acf(df1.loc[filt]['Value'],ax=ax[ind])\n",
    "    ax[ind].set_title(i, size=10)\n",
    "    ax[ind].set_ylabel('Hydroelectricity Consumption by Year', size=9)\n",
    "    ax[ind].set_xlabel('Year', size=9)\n",
    "    ax[ind].xaxis.set_tick_params(labelsize=9)\n",
    "    ax[ind].yaxis.set_tick_params(labelsize=9)\n",
    "plt.tight_layout() "
   ]
  },
  {
   "cell_type": "markdown",
   "id": "2d08c47e-2fec-4269-8ac0-c80346ece9ca",
   "metadata": {},
   "source": [
    "## Implementing Differencing"
   ]
  },
  {
   "cell_type": "code",
   "execution_count": null,
   "id": "337426e9-59bb-4d5a-8556-cc53d8c7866e",
   "metadata": {},
   "outputs": [],
   "source": [
    "#1st order differencing segment of ARIMA makes the data stationary.\n",
    "\n",
    "df1['Value_diff'] = df1.groupby(['Country'])['Value'].diff().fillna(0)"
   ]
  },
  {
   "cell_type": "code",
   "execution_count": null,
   "id": "a7b9ad72-8241-43b8-bd37-8b8d44b0da57",
   "metadata": {},
   "outputs": [],
   "source": [
    "#ADF test for checking the stationarity of data\n",
    "for name in country_name:\n",
    "    X = df1[df1['Country'] == name]['Value_diff'].values\n",
    "    def adf_test(value):\n",
    "        result=adfuller(value)\n",
    "        labels = ['Test parameters', 'p-value','#Lags Used','Dataset observations']\n",
    "        for value,label in zip(result,labels):\n",
    "            print(label+' : '+str(value) )\n",
    "        if result[1] <= 0.05:\n",
    "            print(\"Dataset is stationary\")\n",
    "            print(name)\n",
    "            print(\"\\n\")\n",
    "        else:\n",
    "            print(\"Dataset is non-stationary \")\n",
    "            print(name)\n",
    "            print(\"\\n\")\n",
    "    adf_test(X)"
   ]
  },
  {
   "cell_type": "code",
   "execution_count": null,
   "id": "51d9eca1-ce73-442d-87a4-afdd0c123de7",
   "metadata": {},
   "outputs": [],
   "source": [
    "#2nd order differencing segment of ARIMA makes the data stationary.\n",
    "df1['Value_diff_1'] = df1.groupby(['Country'])['Value_diff'].diff().fillna(0)"
   ]
  },
  {
   "cell_type": "code",
   "execution_count": null,
   "id": "093c5cc0-ca7c-4714-b0d2-8d8fc4fb75e1",
   "metadata": {},
   "outputs": [],
   "source": [
    "#ADF test for checking the stationarity of data\n",
    "for name in country_name:\n",
    "    X = df1[df1['Country'] == name]['Value_diff_1'].values\n",
    "    def adf_test(value):\n",
    "        result=adfuller(value)\n",
    "        labels = ['Test parameters', 'p-value','#Lags Used','Dataset observations']\n",
    "        for value,label in zip(result,labels):\n",
    "            print(label+' : '+str(value) )\n",
    "        if result[1] <= 0.05:\n",
    "            print(\"Dataset is stationary\")\n",
    "            print(name)\n",
    "            print(\"\\n\")\n",
    "        else:\n",
    "            print(\"Dataset is non-stationary \")\n",
    "            print(name)\n",
    "            print(\"\\n\")\n",
    "    adf_test(X)"
   ]
  },
  {
   "cell_type": "code",
   "execution_count": null,
   "id": "96d0dd39-94be-436c-b11a-a4310693a2b0",
   "metadata": {},
   "outputs": [],
   "source": [
    "#2nd order differencing segment of ARIMA makes the data stationary.\n",
    "df1['Value_diff_2'] = df1.groupby(['Country'])['Value_diff_1'].diff().fillna(0)"
   ]
  },
  {
   "cell_type": "code",
   "execution_count": null,
   "id": "b177fd6f-922f-48b7-af14-cd4b144270f4",
   "metadata": {},
   "outputs": [],
   "source": [
    "#ADF test for checking the stationarity of data\n",
    "for name in country_name:\n",
    "    X = df1[df1['Country'] == name]['Value_diff_2'].values\n",
    "    def adf_test(value):\n",
    "        result=adfuller(value)\n",
    "        labels = ['Test parameters', 'p-value','#Lags Used','Dataset observations']\n",
    "        for value,label in zip(result,labels):\n",
    "            print(label+' : '+str(value) )\n",
    "        if result[1] <= 0.05:\n",
    "            print(\"Dataset is stationary\")\n",
    "            print(name)\n",
    "            print(\"\\n\")\n",
    "        else:\n",
    "            print(\"Dataset is non-stationary \")\n",
    "            print(name)\n",
    "            print(\"\\n\")\n",
    "    adf_test(X)"
   ]
  },
  {
   "cell_type": "markdown",
   "id": "8b8b90f0-b137-4b64-91f5-84bc04663c83",
   "metadata": {},
   "source": [
    "## Plotting ACF"
   ]
  },
  {
   "cell_type": "code",
   "execution_count": null,
   "id": "415710b2-5bee-430b-b162-70195a016422",
   "metadata": {},
   "outputs": [],
   "source": [
    "# Plotting ACF to get the best value of q.\n",
    "fig, ax = plt.subplots(nrows=len(country_name), figsize=(12,len(country_name)*3.5))\n",
    "for i in country_name:\n",
    "    #print(i)\n",
    "    ind =list(country_name).index(i)\n",
    "    #print(ind)\n",
    "    filt = df1['Country']== i \n",
    "    #print(filt)\n",
    "    sm.graphics.tsa.plot_acf(df1.loc[filt]['Value_diff_2'],ax=ax[ind], lags=45)\n",
    "    ax[ind].set_title(i, size=10)\n",
    "    ax[ind].set_ylabel('Hydroelectricity Consumption by Year', size=9)\n",
    "    ax[ind].set_xlabel('Year', size=9)\n",
    "    ax[ind].xaxis.set_tick_params(labelsize=9)\n",
    "    ax[ind].yaxis.set_tick_params(labelsize=9)\n",
    "plt.tight_layout() "
   ]
  },
  {
   "cell_type": "markdown",
   "id": "4e7d6ebb-6e82-4a69-8a9f-d5dfb8bb9bb7",
   "metadata": {},
   "source": [
    "## Plotting the new dataset"
   ]
  },
  {
   "cell_type": "code",
   "execution_count": null,
   "id": "36a58452-082e-454d-ab33-122addd7ef09",
   "metadata": {},
   "outputs": [],
   "source": [
    "#Plotting the new dataset to the stationarity\n",
    "\n",
    "fig, ax = plt.subplots(nrows=len(country_name), figsize=(12,len(country_name)*3.5))\n",
    "for i in country_name:\n",
    "    #print(i)\n",
    "    ind =list(country_name).index(i)\n",
    "    #print(ind)\n",
    "    filt = df1['Country']== i \n",
    "    #print(filt)\n",
    "    ax[ind].plot(df1.loc[filt]['Year'],df1.loc[filt]['Value_diff_2'])\n",
    "    ax[ind].set_title(i, size=10)\n",
    "    ax[ind].set_ylabel('Hydroelectricity Consumption by Year', size=9)\n",
    "    ax[ind].set_xlabel('Year', size=9)\n",
    "    ax[ind].xaxis.set_tick_params(labelsize=9)\n",
    "    ax[ind].yaxis.set_tick_params(labelsize=9)\n",
    "plt.tight_layout() "
   ]
  },
  {
   "cell_type": "markdown",
   "id": "19fadd33-cdab-4f22-a6e5-82f62d5969b3",
   "metadata": {},
   "source": [
    "## Plotting PACF"
   ]
  },
  {
   "cell_type": "code",
   "execution_count": null,
   "id": "3efb6770-5e0b-412f-97fc-f3def1f2be05",
   "metadata": {},
   "outputs": [],
   "source": [
    "#Plotting PACF to get the best value of p\n",
    "\n",
    "fig, ax = plt.subplots(nrows=len(country_name), figsize=(12,len(country_name)*3.5))\n",
    "for i in country_name:\n",
    "    #print(i)\n",
    "    ind =list(country_name).index(i)\n",
    "    #print(ind)\n",
    "    filt = df1['Country']== i \n",
    "    #print(filt)\n",
    "    sm.graphics.tsa.plot_pacf(df1.loc[filt]['Value_diff_2'],ax=ax[ind],lags=22)\n",
    "    ax[ind].set_title(i, size=10)\n",
    "    ax[ind].set_ylabel('Hydroelectricity Consumption by Year', size=9)\n",
    "    ax[ind].set_xlabel('Year', size=9)\n",
    "    ax[ind].xaxis.set_tick_params(labelsize=9)\n",
    "    ax[ind].yaxis.set_tick_params(labelsize=9)\n",
    "plt.tight_layout() "
   ]
  },
  {
   "cell_type": "markdown",
   "id": "1eade1f9-53bd-410f-a09b-5d4042cbc63f",
   "metadata": {},
   "source": [
    "## Training and Testing the ARIMA model - Accuracy Metrics for Time Series Forecast"
   ]
  },
  {
   "cell_type": "code",
   "execution_count": null,
   "id": "d26b8fa4-5684-4830-b35e-31c3915a718a",
   "metadata": {},
   "outputs": [],
   "source": [
    "# Fitting an ARIMA model and Interpret the result of an ARIMA model\n",
    "warnings.filterwarnings('ignore')\n",
    "dict_org = {}\n",
    "dict_pred = {}\n",
    "country_accuracy = {}\n",
    "for name in range(len(country_name)):\n",
    "    X = df1[df1['Country'] == country_name[name]]['Value'].values\n",
    "    size = int(len(X) * 0.70)\n",
    "    train, test = X[0:size], X[size:len(X)]\n",
    "    history =[x for x in train]\n",
    "    #print(train.shape,test.shape)\n",
    "    predictions = list()\n",
    "    for t in range(len(test)):\n",
    "        model = sm.tsa.arima.ARIMA(history, order = (4,3,1))\n",
    "        model_fit = model.fit()\n",
    "        output = model_fit.forecast()\n",
    "        yhat = output[0]\n",
    "        predictions.append(yhat)\n",
    "        obs = test[t]\n",
    "        history.append(obs)\n",
    "        print(Fore.BLUE +\"Predicted:%f, expected:%f\" %(yhat, obs))\n",
    "        \n",
    "        #the residuals to ensure there are no patterns\n",
    "        residuals = pd.DataFrame(model_fit.resid)\n",
    "    #Accuracy Metrics for Time Series Forecast \n",
    "    mse= mean_squared_error(test, predictions) #Mean Squared Error\n",
    "    mae=mean_absolute_error(test, predictions) #Mean Absolute Error\n",
    "    rmse=sqrt(mse) #RMSE\n",
    "    mape=np.mean(np.abs(predictions-test)/np.abs(test)) #Mean absolute percentage error\n",
    "    corr = np.corrcoef(predictions,test)[0,1] #Correlation between the Actual and the Forecast (corr)\n",
    "  \n",
    "    dict_org.update({country_name[name]: test})\n",
    "    dict_pred.update({country_name[name]: predictions})\n",
    "    print('Accuracy Metrics:')\n",
    "    print(\"Group: \", country_name[name], \"Test MSE:%f\"% mse)\n",
    "    print(\"Group: \", country_name[name], \"Test MAE:%f\"% mae)\n",
    "    print(\"Group: \", country_name[name], \"Test RMSE:%f\"% rmse)\n",
    "    print(\"Group: \", country_name[name], \"Test MAPE:%f\"% mape)\n",
    "    print(\"Group: \", country_name[name], \"Test CORR:%f\"% corr)\n",
    "    country_accuracy.update({country_name[name]: mse,country_name[name]: rmse,country_name[name]: mape,country_name[name]: mae,country_name[name]: corr})\n",
    "    #Plot test and predictions data\n",
    "    plt.plot(test)\n",
    "    plt.plot(predictions, color = 'orange')\n",
    "    plt.legend(['Actual','Predicted'])\n",
    "    plt.xlabel(country_name[name])\n",
    "    plt.show()\n",
    "    # Plot residual errors\n",
    "    residuals.plot(title='Residuals for the data of '+country_name[name])\n",
    "    plt.show()\n",
    "    residuals.plot(kind='kde', title='Density for the data of '+country_name[name])\n",
    "    plt.show()"
   ]
  },
  {
   "cell_type": "markdown",
   "id": "a304db3d-6b03-4dc0-9035-fa55540f0345",
   "metadata": {},
   "source": [
    "## Auto ARIMA model - Model Checking"
   ]
  },
  {
   "cell_type": "code",
   "execution_count": null,
   "id": "1d7d11f0-52f7-499b-9805-84ba3a456fa1",
   "metadata": {},
   "outputs": [],
   "source": [
    "dict_original = {}\n",
    "dict_prediction = {}\n",
    "country_accuracy = {}\n",
    "for name in range(len(country_name)):\n",
    "    X = df1[df1['Country'] == country_name[name]]['Value'].values\n",
    "    size = int(len(X) * 0.70)\n",
    "    train, test = X[0:size], X[size:len(X)]\n",
    "    history =[x for x in train]\n",
    "    #print(train.shape,test.shape)\n",
    "    predictions = list()\n",
    "    for t in range(len(test)):\n",
    "        model =auto_arima(history, start_p=1, start_q=1,\n",
    "                      test='adf',       # use adftest to find optimal 'd'\n",
    "                      max_p=3, max_q=3, # maximum p and q\n",
    "                      m=1,              # frequency of series\n",
    "                      d=None,           # let model determine 'd'\n",
    "                      seasonal=False,   # No Seasonality\n",
    "                      start_P=0, \n",
    "                      D=0, \n",
    "                      trace=True,\n",
    "                      error_action='ignore',  \n",
    "                      suppress_warnings=True, \n",
    "                      stepwise=True) # this works \n",
    "        output = model.predict()\n",
    "        yhat = output[0]\n",
    "        predictions.append(yhat)\n",
    "        obs = test[t]\n",
    "        history.append(obs)\n",
    "        print(Fore.BLUE +\"Predicted:%f, expected:%f\" %(yhat, obs))\n",
    "        \n",
    "        \n",
    "    mse= mean_squared_error(test, predictions) #Mean Squared Error\n",
    "    mae=mean_absolute_error(test, predictions) #Mean Absolute Error\n",
    "    rmse=sqrt(mse) #RMSE\n",
    "    mape=np.mean(np.abs(predictions-test)/np.abs(test)) #Mean absolute percentage error\n",
    "    print('Test MSE: %.3f' % mse)\n",
    "    dict_org.update({country_name[name]: test})\n",
    "    dict_pred.update({country_name[name]: predictions})\n",
    "    print(\"Group: \", country_name[name], \"Test MSE:%f\"% mse)\n",
    "    print(\"Group: \", country_name[name], \"Test MAE:%f\"% mae)\n",
    "    print(\"Group: \", country_name[name], \"Test RMSE:%f\"% rmse)\n",
    "    print(\"Group: \", country_name[name], \"Test MAPE:%f\"% mape)\n",
    "    country_accuracy.update({country_name[name]: mse,country_name[name]: rmse,country_name[name]: mape,country_name[name]: mae})\n",
    "    \n",
    "    #Plotting\n",
    "    plt.plot(test)\n",
    "    plt.plot(predictions, color = 'orange')\n",
    "    plt.legend(['Actual','Predicted'])\n",
    "    plt.xlabel(country_name[name])\n",
    "    plt.show()"
   ]
  }
 ],
 "metadata": {
  "kernelspec": {
   "display_name": "Python 3 (ipykernel)",
   "language": "python",
   "name": "python3"
  },
  "language_info": {
   "codemirror_mode": {
    "name": "ipython",
    "version": 3
   },
   "file_extension": ".py",
   "mimetype": "text/x-python",
   "name": "python",
   "nbconvert_exporter": "python",
   "pygments_lexer": "ipython3",
   "version": "3.9.7"
  }
 },
 "nbformat": 4,
 "nbformat_minor": 5
}
